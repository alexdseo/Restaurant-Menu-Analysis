{
  "nbformat": 4,
  "nbformat_minor": 0,
  "metadata": {
    "colab": {
      "name": "REMA.ipynb",
      "provenance": [],
      "collapsed_sections": [
        "5Wp-h4heM6BR",
        "vPGFAbz4M_wB",
        "YBmCqsqoNJZD",
        "q1AfGLl8Vn29",
        "p_vKpOm-Wbfd",
        "WtvU1KFyk3pV"
      ]
    },
    "kernelspec": {
      "name": "python3",
      "display_name": "Python 3"
    },
    "language_info": {
      "name": "python"
    }
  },
  "cells": [
    {
      "cell_type": "markdown",
      "source": [
        "# Restaurant-Menu-Analysis\n",
        "## Clustering Word Embeddings of Restaurant Brands' Menu Item"
      ],
      "metadata": {
        "id": "eYU2RWtpKu5d"
      }
    },
    {
      "cell_type": "markdown",
      "source": [
        "### Clone Repository and Set Directory"
      ],
      "metadata": {
        "id": "5Wp-h4heM6BR"
      }
    },
    {
      "cell_type": "code",
      "execution_count": 3,
      "metadata": {
        "colab": {
          "base_uri": "https://localhost:8080/"
        },
        "id": "6yCfdwCDKoAU",
        "outputId": "6b25f35f-5585-42a7-a9d4-92416a9f3ad7"
      },
      "outputs": [
        {
          "output_type": "stream",
          "name": "stdout",
          "text": [
            "fatal: destination path 'Restaurant-Menu-Analysis' already exists and is not an empty directory.\n"
          ]
        }
      ],
      "source": [
        "# Clone this repository\n",
        "!git clone https://github.com/alexdseo/Restaurant-Menu-Analysis"
      ]
    },
    {
      "cell_type": "code",
      "source": [
        "# Change directory\n",
        "%cd Restaurant-Menu-Analysis"
      ],
      "metadata": {
        "colab": {
          "base_uri": "https://localhost:8080/"
        },
        "id": "-ZB6Aq-7K0i7",
        "outputId": "c0d9f336-28e3-4984-a663-60ed92ae11dc"
      },
      "execution_count": 4,
      "outputs": [
        {
          "output_type": "stream",
          "name": "stdout",
          "text": [
            "/content/Restaurant-Menu-Analysis\n"
          ]
        }
      ]
    },
    {
      "cell_type": "markdown",
      "source": [
        "### Install and Import Libraries"
      ],
      "metadata": {
        "id": "vPGFAbz4M_wB"
      }
    },
    {
      "cell_type": "code",
      "source": [
        "# @title\n",
        "# pip install libraries\n",
        "!pip install -U sentence-transformers\n",
        "!pip install umap-learn\n",
        "!pip install hdbscan\n",
        "!pip install sister\n",
        "#!python -m spacy download en_core_web_lg"
      ],
      "metadata": {
        "cellView": "form",
        "id": "K2XaJC4ZK_eh"
      },
      "execution_count": null,
      "outputs": []
    },
    {
      "cell_type": "code",
      "source": [
        "# Import Libraries\n",
        "#Basic\n",
        "import torch\n",
        "import pandas as pd\n",
        "import numpy as np\n",
        "from scipy.spatial.distance import cosine\n",
        "from sklearn.metrics import pairwise_distances\n",
        "from sklearn.metrics.pairwise import cosine_similarity\n",
        "#Embeddings\n",
        "from sentence_transformers import SentenceTransformer # SBERT\n",
        "#from gensim.models import FastText\n",
        "#from transformers import AutoModel, AutoTokenizer\n",
        "import sister #FastText\n",
        "from sklearn.feature_extraction.text import TfidfTransformer\n",
        "from sklearn.feature_extraction.text import TfidfVectorizer\n",
        "#import spacy\n",
        "#from gensim.corpora import Dictionary\n",
        "#from gensim.models.tfidfmodel import TfidfModel\n",
        "#from gensim.matutils import sparse2full\n",
        "#Dimensionality Reduction\n",
        "import umap\n",
        "from sklearn.decomposition import PCA\n",
        "from sklearn.manifold import TSNE\n",
        "#Clustering\n",
        "import hdbscan\n",
        "from sklearn.cluster import KMeans\n",
        "from sklearn.metrics import silhouette_score\n",
        "from sklearn.mixture import GaussianMixture\n",
        "#Visulaization\n",
        "import matplotlib.pyplot as plt\n",
        "import plotly.express as px"
      ],
      "metadata": {
        "id": "e4Fw5iDgK28K"
      },
      "execution_count": 189,
      "outputs": []
    },
    {
      "cell_type": "markdown",
      "source": [
        "### Read pre-processed dataset"
      ],
      "metadata": {
        "id": "w6Gqtl0JNEHP"
      }
    },
    {
      "cell_type": "code",
      "source": [
        "#Preprocessed data\n",
        "df = pd.read_csv('MenuItem_cleaned.csv')\n",
        "df_list = df['Original food Item'].to_list()"
      ],
      "metadata": {
        "id": "uq_mvHb3Ml4q"
      },
      "execution_count": 5,
      "outputs": []
    },
    {
      "cell_type": "markdown",
      "source": [
        "## Embedding models\n",
        "- SBERT\n",
        "- FastText\n",
        "- TF-IDF"
      ],
      "metadata": {
        "id": "YBmCqsqoNJZD"
      }
    },
    {
      "cell_type": "code",
      "source": [
        "# Set seed\n",
        "np.random.seed(1996)\n",
        "# SBERT\n",
        "sbert = SentenceTransformer('all-MiniLM-L6-v2') #default max seq length =256 #Truncate sentence length over 256: 7 cases\n",
        "# FastText\n",
        "ft = sister.MeanEmbedding(lang=\"en\") #Average of word embeddings calculated from FastText"
      ],
      "metadata": {
        "colab": {
          "base_uri": "https://localhost:8080/"
        },
        "id": "pyVQR0fnNH75",
        "outputId": "391749ef-5c6f-405c-e872-37b9fed6e61f"
      },
      "execution_count": 6,
      "outputs": [
        {
          "output_type": "stream",
          "name": "stdout",
          "text": [
            "Loading model...\n"
          ]
        },
        {
          "output_type": "stream",
          "name": "stderr",
          "text": [
            "Warning : `load_model` does not return WordVectorModel or SupervisedModel any more, but a `FastText` object which is very similar.\n"
          ]
        }
      ]
    },
    {
      "cell_type": "code",
      "source": [
        "# SBERT embeddings\n",
        "embeddings_sbert = sbert.encode(df['Original food Item'])"
      ],
      "metadata": {
        "id": "kIcEXytRNj7t"
      },
      "execution_count": 7,
      "outputs": []
    },
    {
      "cell_type": "code",
      "source": [
        "# FastTexct embeddings\n",
        "embeddings_ft = ft(df_list[0])\n",
        "for i in range(1, len(df)):\n",
        "  embedding = ft(df_list[i])\n",
        "  embeddings_ft = np.vstack((embeddings_ft, embedding))"
      ],
      "metadata": {
        "id": "utGdewchO74R"
      },
      "execution_count": 8,
      "outputs": []
    },
    {
      "cell_type": "code",
      "source": [
        "# TF-IDF\n",
        "tfidf = TfidfVectorizer()\n",
        "embeddings_tfidf = tfidf.fit_transform(df_list).toarray()"
      ],
      "metadata": {
        "id": "QdWAgBY1O9Wz"
      },
      "execution_count": 9,
      "outputs": []
    },
    {
      "cell_type": "code",
      "source": [
        "print(f'SBERT embedding shape: {embeddings_sbert.shape}')\n",
        "print(f'FastText embedding shape: {embeddings_ft.shape}')\n",
        "print(f'TF-IDF embedding shape: {embeddings_tfidf.shape}')"
      ],
      "metadata": {
        "colab": {
          "base_uri": "https://localhost:8080/"
        },
        "id": "xQBFtJi8bzPa",
        "outputId": "916fa63b-d131-4d8b-81b0-4eb2bb137081"
      },
      "execution_count": 10,
      "outputs": [
        {
          "output_type": "stream",
          "name": "stdout",
          "text": [
            "SBERT embedding shape: (308, 384)\n",
            "FastText embedding shape: (308, 300)\n",
            "TF-IDF embedding shape: (308, 2152)\n"
          ]
        }
      ]
    },
    {
      "cell_type": "markdown",
      "source": [
        "## Dimensionality reduction methods\n",
        "- PCA\n",
        "- t-SNE\n",
        "- UMAP"
      ],
      "metadata": {
        "id": "q1AfGLl8Vn29"
      }
    },
    {
      "cell_type": "markdown",
      "source": [
        "#### SBERT"
      ],
      "metadata": {
        "id": "fHYm1CatVvtB"
      }
    },
    {
      "cell_type": "code",
      "source": [
        "# PCA\n",
        "sbert_pca = PCA(n_components=2).fit_transform(embeddings_sbert)\n",
        "# t-SNE\n",
        "sbert_tsne = TSNE(n_components=2, learning_rate='auto', init='pca').fit_transform(embeddings_sbert)\n",
        "# UMAP\n",
        "sbert_umap = umap.UMAP(n_neighbors=5, n_components=2, min_dist=0.0, metric='cosine').fit_transform(embeddings_sbert)"
      ],
      "metadata": {
        "colab": {
          "base_uri": "https://localhost:8080/"
        },
        "id": "PjPA_cO-V6Bw",
        "outputId": "e491071e-c58b-41be-d1c2-97cbced8c18f"
      },
      "execution_count": 11,
      "outputs": [
        {
          "output_type": "stream",
          "name": "stderr",
          "text": [
            "/usr/local/lib/python3.7/dist-packages/sklearn/manifold/_t_sne.py:986: FutureWarning: The PCA initialization in TSNE will change to have the standard deviation of PC1 equal to 1e-4 in 1.2. This will ensure better convergence.\n",
            "  FutureWarning,\n",
            "/usr/local/lib/python3.7/dist-packages/numba/np/ufunc/parallel.py:363: NumbaWarning: The TBB threading layer requires TBB version 2019.5 or later i.e., TBB_INTERFACE_VERSION >= 11005. Found TBB_INTERFACE_VERSION = 9107. The TBB threading layer is disabled.\n",
            "  warnings.warn(problem)\n"
          ]
        }
      ]
    },
    {
      "cell_type": "markdown",
      "source": [
        "#### FastText"
      ],
      "metadata": {
        "id": "bvUHqVQeWPJQ"
      }
    },
    {
      "cell_type": "code",
      "source": [
        "# PCA\n",
        "ft_pca = PCA(n_components=2).fit_transform(embeddings_ft)\n",
        "# t-SNE\n",
        "ft_tsne = TSNE(n_components=2, learning_rate='auto', init='pca').fit_transform(embeddings_ft)\n",
        "# UMAP\n",
        "ft_umap = umap.UMAP(n_neighbors=5, n_components=2, min_dist=0.0, metric='cosine').fit_transform(embeddings_ft)"
      ],
      "metadata": {
        "colab": {
          "base_uri": "https://localhost:8080/"
        },
        "id": "KmnHFLHuWTvv",
        "outputId": "1c352e53-b395-48a9-b94d-67f8711a311a"
      },
      "execution_count": 12,
      "outputs": [
        {
          "output_type": "stream",
          "name": "stderr",
          "text": [
            "/usr/local/lib/python3.7/dist-packages/sklearn/manifold/_t_sne.py:986: FutureWarning: The PCA initialization in TSNE will change to have the standard deviation of PC1 equal to 1e-4 in 1.2. This will ensure better convergence.\n",
            "  FutureWarning,\n"
          ]
        }
      ]
    },
    {
      "cell_type": "markdown",
      "source": [
        "#### TF-IDF"
      ],
      "metadata": {
        "id": "Ws2TDx5WWT4P"
      }
    },
    {
      "cell_type": "code",
      "source": [
        "# PCA\n",
        "tfidf_pca = PCA(n_components=2).fit_transform(embeddings_tfidf)\n",
        "# t-SNE\n",
        "tfidf_tsne = TSNE(n_components=2, learning_rate='auto', init='pca').fit_transform(embeddings_tfidf)\n",
        "# UMAP\n",
        "tfidf_umap = umap.UMAP(n_neighbors=5, n_components=2, min_dist=0.0, metric='cosine').fit_transform(embeddings_tfidf)"
      ],
      "metadata": {
        "colab": {
          "base_uri": "https://localhost:8080/"
        },
        "id": "bDGshl7rWYmr",
        "outputId": "0fd655db-197f-4e5e-8a75-1c06c0c36fee"
      },
      "execution_count": 13,
      "outputs": [
        {
          "output_type": "stream",
          "name": "stderr",
          "text": [
            "/usr/local/lib/python3.7/dist-packages/sklearn/manifold/_t_sne.py:986: FutureWarning: The PCA initialization in TSNE will change to have the standard deviation of PC1 equal to 1e-4 in 1.2. This will ensure better convergence.\n",
            "  FutureWarning,\n"
          ]
        }
      ]
    },
    {
      "cell_type": "markdown",
      "source": [
        "## Clustering\n",
        "- k-means\n",
        "- Gaussian Mixture Models\n",
        "- HDBSCAN"
      ],
      "metadata": {
        "id": "p_vKpOm-Wbfd"
      }
    },
    {
      "cell_type": "markdown",
      "source": [
        "#### SBERT"
      ],
      "metadata": {
        "id": "SC05JdpudibJ"
      }
    },
    {
      "cell_type": "code",
      "source": [
        "#K-means\n",
        "#Set score to update\n",
        "best_k = 0\n",
        "best_score = 0\n",
        "#Choose k from 5-10\n",
        "k = np.arange(5, 10)\n",
        "\n",
        "#Use all dataset\n",
        "for i in k:\n",
        "    kmeans = KMeans(n_clusters=i, random_state=1996).fit(sbert_pca) # Run for sbert_tsne and sbert_umap too\n",
        "    #pick silhouette score\n",
        "    sil_score = silhouette_score(sbert_pca, kmeans.labels_)\n",
        "    #sil_score = 1 means clusters are well apart\n",
        "    if sil_score > best_score:\n",
        "        best_score = sil_score\n",
        "        best_k = i\n",
        "\n",
        "print('Chosen k:', best_k)\n",
        "print('Silhouette score for chosen k:', best_score)"
      ],
      "metadata": {
        "colab": {
          "base_uri": "https://localhost:8080/"
        },
        "id": "Q18lpvMZel50",
        "outputId": "f38ca9a3-7112-4bd1-9014-598f7faf8493"
      },
      "execution_count": 17,
      "outputs": [
        {
          "output_type": "stream",
          "name": "stdout",
          "text": [
            "Chosen k: 9\n",
            "Silhouette score for chosen k: 0.47177288\n"
          ]
        }
      ]
    },
    {
      "cell_type": "code",
      "source": [
        "# Gaussian Mixture model\n",
        "#Set score to update\n",
        "best_k = 0\n",
        "best_score = 0\n",
        "#Choose k from 5-10\n",
        "k = np.arange(5, 10)\n",
        "\n",
        "#Use all dataset\n",
        "for i in k:\n",
        "    gmm = GaussianMixture(n_components=i, random_state=1996).fit_predict(sbert_pca) # Run for sbert_tsne and sbert_umap too\n",
        "    #pick silhouette score\n",
        "    sil_score = silhouette_score(sbert_pca, gmm)\n",
        "    #sil_score = 1 means clusters are well apart\n",
        "    if sil_score > best_score:\n",
        "        best_score = sil_score\n",
        "        best_k = i\n",
        "\n",
        "print('Chosen k:', best_k)\n",
        "print('Silhouette score for chosen k:', best_score)"
      ],
      "metadata": {
        "colab": {
          "base_uri": "https://localhost:8080/"
        },
        "id": "ESRgR_93i3HR",
        "outputId": "0f1f2ff0-12a9-476b-854d-e2a04c6ad99d"
      },
      "execution_count": 19,
      "outputs": [
        {
          "output_type": "stream",
          "name": "stdout",
          "text": [
            "Chosen k: 8\n",
            "Silhouette score for chosen k: 0.39172366\n"
          ]
        }
      ]
    },
    {
      "cell_type": "code",
      "source": [
        "# Run clustering models with fine tuned hyperparameter\n",
        "#k-means\n",
        "sbert_pca_kmeans = KMeans(n_clusters=5, random_state=1996).fit_predict(sbert_pca)\n",
        "sbert_tsne_kmeans = KMeans(n_clusters=9, random_state=1996).fit_predict(sbert_tsne)\n",
        "sbert_umap_kmeans = KMeans(n_clusters=9, random_state=1996).fit_predict(sbert_umap)\n",
        "#GMM\n",
        "sbert_pca_gmm = GaussianMixture(n_components=6, random_state=1996).fit_predict(sbert_pca)\n",
        "sbert_tsne_gmm = GaussianMixture(n_components=5, random_state=1996).fit_predict(sbert_tsne)\n",
        "sbert_umap_gmm = GaussianMixture(n_components=8, random_state=1996).fit_predict(sbert_umap)\n",
        "#HDBSCAN\n",
        "sbert_pca_hdbscan = hdbscan.HDBSCAN(min_cluster_size=5, metric='l2', cluster_selection_epsilon=0.5, min_samples=1).fit(sbert_pca)\n",
        "sbert_tsne_hdbscan = hdbscan.HDBSCAN(min_cluster_size=5, metric='l2', cluster_selection_epsilon=0.5, min_samples=1).fit(sbert_tsne)\n",
        "sbert_umap_hdbscan = hdbscan.HDBSCAN(min_cluster_size=5, metric='l2', cluster_selection_epsilon=0.5, min_samples=1).fit(sbert_umap)"
      ],
      "metadata": {
        "id": "q6yCNshqj1WT"
      },
      "execution_count": 27,
      "outputs": []
    },
    {
      "cell_type": "markdown",
      "source": [
        "#### FastText"
      ],
      "metadata": {
        "id": "yxrLwdrEem51"
      }
    },
    {
      "cell_type": "code",
      "source": [
        "#K-means\n",
        "#Set score to update\n",
        "best_k = 0\n",
        "best_score = 0\n",
        "#Choose k from 5-10\n",
        "k = np.arange(5, 10)\n",
        "\n",
        "#Use all dataset\n",
        "for i in k:\n",
        "    kmeans = KMeans(n_clusters=i, random_state=1996).fit(ft_pca) # Run for ft_tsne and ft_umap too\n",
        "    #pick silhouette score\n",
        "    sil_score = silhouette_score(ft_pca, kmeans.labels_)\n",
        "    #sil_score = 1 means clusters are well apart\n",
        "    if sil_score > best_score:\n",
        "        best_score = sil_score\n",
        "        best_k = i\n",
        "\n",
        "print('Chosen k:', best_k)\n",
        "print('Silhouette score for chosen k:', best_score)"
      ],
      "metadata": {
        "colab": {
          "base_uri": "https://localhost:8080/"
        },
        "id": "LDT_7X1Feon1",
        "outputId": "9ba1c47b-8a7c-46d1-b80e-910d5e172337"
      },
      "execution_count": 23,
      "outputs": [
        {
          "output_type": "stream",
          "name": "stdout",
          "text": [
            "Chosen k: 7\n",
            "Silhouette score for chosen k: 0.37244686\n"
          ]
        }
      ]
    },
    {
      "cell_type": "code",
      "source": [
        "# Gaussian Mixture model\n",
        "#Set score to update\n",
        "best_k = 0\n",
        "best_score = 0\n",
        "#Choose k from 5-10\n",
        "k = np.arange(5, 10)\n",
        "\n",
        "#Use all dataset\n",
        "for i in k:\n",
        "    gmm = GaussianMixture(n_components=i, random_state=1996).fit_predict(ft_pca) # Run for frt_tsne and ft_umap too\n",
        "    #pick silhouette score\n",
        "    sil_score = silhouette_score(ft_pca, gmm)\n",
        "    #sil_score = 1 means clusters are well apart\n",
        "    if sil_score > best_score:\n",
        "        best_score = sil_score\n",
        "        best_k = i\n",
        "\n",
        "print('Chosen k:', best_k)\n",
        "print('Silhouette score for chosen k:', best_score)"
      ],
      "metadata": {
        "colab": {
          "base_uri": "https://localhost:8080/"
        },
        "id": "3bmVZMK3jSRs",
        "outputId": "0923e403-a94e-4a4d-dd7f-608f960deb0a"
      },
      "execution_count": 26,
      "outputs": [
        {
          "output_type": "stream",
          "name": "stdout",
          "text": [
            "Chosen k: 9\n",
            "Silhouette score for chosen k: 0.4492877\n"
          ]
        }
      ]
    },
    {
      "cell_type": "code",
      "source": [
        "# Run clustering models with fine tuned hyperparameter\n",
        "#k-means\n",
        "ft_pca_kmeans = KMeans(n_clusters=5, random_state=1996).fit_predict(ft_pca)\n",
        "ft_tsne_kmeans = KMeans(n_clusters=7, random_state=1996).fit_predict(ft_tsne)\n",
        "ft_umap_kmeans = KMeans(n_clusters=9, random_state=1996).fit_predict(ft_umap)\n",
        "#GMM\n",
        "ft_pca_gmm = GaussianMixture(n_components=5, random_state=1996).fit_predict(ft_pca)\n",
        "ft_tsne_gmm = GaussianMixture(n_components=6, random_state=1996).fit_predict(ft_tsne)\n",
        "ft_umap_gmm = GaussianMixture(n_components=9, random_state=1996).fit_predict(ft_umap)\n",
        "#HDBSCAN\n",
        "ft_pca_hdbscan = hdbscan.HDBSCAN(min_cluster_size=5, metric='l2', cluster_selection_epsilon=0.5, min_samples=1).fit(ft_pca)\n",
        "ft_tsne_hdbscan = hdbscan.HDBSCAN(min_cluster_size=5, metric='l2', cluster_selection_epsilon=0.5, min_samples=1).fit(ft_tsne)\n",
        "ft_umap_hdbscan = hdbscan.HDBSCAN(min_cluster_size=5, metric='l2', cluster_selection_epsilon=0.5, min_samples=1).fit(ft_umap)"
      ],
      "metadata": {
        "id": "KgukdGeHjzrJ"
      },
      "execution_count": 28,
      "outputs": []
    },
    {
      "cell_type": "markdown",
      "source": [
        "#### TF-IDF"
      ],
      "metadata": {
        "id": "jeTMblRseowW"
      }
    },
    {
      "cell_type": "code",
      "source": [
        "#K-means\n",
        "#Set score to update\n",
        "best_k = 0\n",
        "best_score = 0\n",
        "#Choose k from 5-10\n",
        "k = np.arange(5, 10)\n",
        "\n",
        "#Use all dataset\n",
        "for i in k:\n",
        "    kmeans = KMeans(n_clusters=i, random_state=1996).fit(tfidf_pca) # Run for tfidf_tsne and tfidf_umap too\n",
        "    #pick silhouette score\n",
        "    sil_score = silhouette_score(tfidf_pca, kmeans.labels_)\n",
        "    #sil_score = 1 means clusters are well apart\n",
        "    if sil_score > best_score:\n",
        "        best_score = sil_score\n",
        "        best_k = i\n",
        "\n",
        "print('Chosen k:', best_k)\n",
        "print('Silhouette score for chosen k:', best_score)"
      ],
      "metadata": {
        "colab": {
          "base_uri": "https://localhost:8080/"
        },
        "id": "s1UBGkcbjVuY",
        "outputId": "c54d1cae-2f32-42de-9909-e5cb0a0af638"
      },
      "execution_count": 31,
      "outputs": [
        {
          "output_type": "stream",
          "name": "stdout",
          "text": [
            "Chosen k: 8\n",
            "Silhouette score for chosen k: 0.45593092\n"
          ]
        }
      ]
    },
    {
      "cell_type": "code",
      "source": [
        "# Gaussian Mixture model\n",
        "#Set score to update\n",
        "best_k = 0\n",
        "best_score = 0\n",
        "#Choose k from 5-10\n",
        "k = np.arange(5, 10)\n",
        "\n",
        "#Use all dataset\n",
        "for i in k:\n",
        "    gmm = GaussianMixture(n_components=i, random_state=1996).fit_predict(tfidf_pca) # Run for tfidf_tsne and tfidf_umap too\n",
        "    #pick silhouette score\n",
        "    sil_score = silhouette_score(tfidf_pca, gmm)\n",
        "    #sil_score = 1 means clusters are well apart\n",
        "    if sil_score > best_score:\n",
        "        best_score = sil_score\n",
        "        best_k = i\n",
        "\n",
        "print('Chosen k:', best_k)\n",
        "print('Silhouette score for chosen k:', best_score)"
      ],
      "metadata": {
        "colab": {
          "base_uri": "https://localhost:8080/"
        },
        "id": "CVX6X5gnjXCD",
        "outputId": "be10d19a-0065-40e8-f2ff-d023c3be10db"
      },
      "execution_count": 34,
      "outputs": [
        {
          "output_type": "stream",
          "name": "stdout",
          "text": [
            "Chosen k: 8\n",
            "Silhouette score for chosen k: 0.42113218\n"
          ]
        }
      ]
    },
    {
      "cell_type": "code",
      "source": [
        "# Run clustering models with fine tuned hyperparameter\n",
        "#k-means\n",
        "tfidf_pca_kmeans = KMeans(n_clusters=7, random_state=1996).fit_predict(tfidf_pca)\n",
        "tfidf_tsne_kmeans = KMeans(n_clusters=7, random_state=1996).fit_predict(tfidf_tsne)\n",
        "tfidf_umap_kmeans = KMeans(n_clusters=8, random_state=1996).fit_predict(tfidf_umap)\n",
        "#GMM\n",
        "tfidf_pca_gmm = GaussianMixture(n_components=5, random_state=1996).fit_predict(tfidf_pca)\n",
        "tfidf_tsne_gmm = GaussianMixture(n_components=5, random_state=1996).fit_predict(tfidf_tsne)\n",
        "tfidf_umap_gmm = GaussianMixture(n_components=8, random_state=1996).fit_predict(tfidf_umap)\n",
        "#HBDSCAN\n",
        "tfidf_pca_hdbscan = hdbscan.HDBSCAN(min_cluster_size=5, metric='l2', cluster_selection_epsilon=0.5, min_samples=1).fit(tfidf_pca)\n",
        "tfidf_tsne_hdbscan = hdbscan.HDBSCAN(min_cluster_size=5, metric='l2', cluster_selection_epsilon=0.5, min_samples=1).fit(tfidf_tsne)\n",
        "tfidf_umap_hdbscan = hdbscan.HDBSCAN(min_cluster_size=5, metric='l2', cluster_selection_epsilon=0.5, min_samples=1).fit(tfidf_umap)"
      ],
      "metadata": {
        "id": "KFqEPARHjYls"
      },
      "execution_count": 35,
      "outputs": []
    },
    {
      "cell_type": "markdown",
      "source": [
        "## Evaluation"
      ],
      "metadata": {
        "id": "WtvU1KFyk3pV"
      }
    },
    {
      "cell_type": "code",
      "source": [
        "#Make df for every cases total 27 cases with 3 embedding models, 3 dimensionality reduction tecniques, 3 clustering model\n",
        "#SBERT\n",
        "#pca\n",
        "sbert_pca_df = pd.DataFrame(sbert_pca, columns=['x', 'y'])\n",
        "sbert_pca_df['kmeans_labels'] = sbert_pca_kmeans\n",
        "sbert_pca_df['gmm_labels'] = sbert_pca_gmm\n",
        "sbert_pca_df['hdbscan_labels'] = sbert_pca_hdbscan.labels_#2 clusters\n",
        "sbert_pca_df['Name'] = df['Restaurant Name']\n",
        "#tsne\n",
        "sbert_tsne_df = pd.DataFrame(sbert_tsne, columns=['x', 'y'])\n",
        "sbert_tsne_df['kmeans_labels'] = sbert_tsne_kmeans\n",
        "sbert_tsne_df['gmm_labels'] = sbert_tsne_gmm\n",
        "sbert_tsne_df['hdbscan_labels'] = sbert_tsne_hdbscan.labels_#22 clusters\n",
        "sbert_tsne_df['Name'] = df['Restaurant Name']\n",
        "#umap\n",
        "sbert_umap_df = pd.DataFrame(sbert_umap, columns=['x', 'y'])\n",
        "sbert_umap_df['kmeans_labels'] = sbert_umap_kmeans\n",
        "sbert_umap_df['gmm_labels'] = sbert_umap_gmm\n",
        "sbert_umap_df['hdbscan_labels'] = sbert_umap_hdbscan.labels_#9 clusters\n",
        "sbert_umap_df['Name'] = df['Restaurant Name']"
      ],
      "metadata": {
        "id": "Pw7BVkIXlywd"
      },
      "execution_count": 161,
      "outputs": []
    },
    {
      "cell_type": "code",
      "source": [
        "#FastText\n",
        "#pca\n",
        "ft_pca_df = pd.DataFrame(ft_pca, columns=['x', 'y'])\n",
        "ft_pca_df['kmeans_labels'] = ft_pca_kmeans\n",
        "ft_pca_df['gmm_labels'] = ft_pca_gmm\n",
        "ft_pca_df['hdbscan_labels'] = ft_pca_hdbscan.labels_# 2 clusters\n",
        "ft_pca_df['Name'] = df['Restaurant Name']\n",
        "#tsne\n",
        "ft_tsne_df = pd.DataFrame(ft_tsne, columns=['x', 'y'])\n",
        "ft_tsne_df['kmeans_labels'] = ft_tsne_kmeans\n",
        "ft_tsne_df['gmm_labels'] = ft_tsne_gmm\n",
        "ft_tsne_df['hdbscan_labels'] = ft_tsne_hdbscan.labels_#20 clusters\n",
        "ft_tsne_df['Name'] = df['Restaurant Name']\n",
        "#umap\n",
        "ft_umap_df = pd.DataFrame(ft_umap, columns=['x', 'y'])\n",
        "ft_umap_df['kmeans_labels'] = ft_umap_kmeans\n",
        "ft_umap_df['gmm_labels'] = ft_umap_gmm\n",
        "ft_umap_df['hdbscan_labels'] = ft_umap_hdbscan.labels_#8 clusters #no noise\n",
        "ft_umap_df['Name'] = df['Restaurant Name']"
      ],
      "metadata": {
        "id": "2MOfnrg5mmlI"
      },
      "execution_count": 162,
      "outputs": []
    },
    {
      "cell_type": "code",
      "source": [
        "#TF-IDF\n",
        "#pca\n",
        "tfidf_pca_df = pd.DataFrame(tfidf_pca, columns=['x', 'y'])\n",
        "tfidf_pca_df['kmeans_labels'] = tfidf_pca_kmeans\n",
        "tfidf_pca_df['gmm_labels'] = tfidf_pca_gmm\n",
        "tfidf_pca_df['hdbscan_labels'] = tfidf_pca_hdbscan.labels_#2 clusters\n",
        "tfidf_pca_df['Name'] = df['Restaurant Name']\n",
        "#tsne\n",
        "tfidf_tsne_df = pd.DataFrame(tfidf_tsne, columns=['x', 'y'])\n",
        "tfidf_tsne_df['kmeans_labels'] = tfidf_tsne_kmeans\n",
        "tfidf_tsne_df['gmm_labels'] = tfidf_tsne_gmm\n",
        "tfidf_tsne_df['hdbscan_labels'] = tfidf_tsne_hdbscan.labels_ #25 clusters\n",
        "tfidf_tsne_df['Name'] = df['Restaurant Name']\n",
        "#umap\n",
        "tfidf_umap_df = pd.DataFrame(tfidf_umap, columns=['x', 'y'])\n",
        "tfidf_umap_df['kmeans_labels'] = tfidf_umap_kmeans\n",
        "tfidf_umap_df['gmm_labels'] = tfidf_umap_gmm\n",
        "tfidf_umap_df['hdbscan_labels'] = tfidf_umap_hdbscan.labels_ #14 clusters\n",
        "tfidf_umap_df['Name'] = df['Restaurant Name']"
      ],
      "metadata": {
        "id": "gl8FKjTEmpYZ"
      },
      "execution_count": 163,
      "outputs": []
    },
    {
      "cell_type": "code",
      "source": [
        "#From this cell to next 6 cells, iterate through all the cases\n",
        "#Check numbers of clusters for each cases\n",
        "np.unique(tfidf_pca_kmeans)"
      ],
      "metadata": {
        "colab": {
          "base_uri": "https://localhost:8080/"
        },
        "id": "4BuH1w8P8Ix3",
        "outputId": "83768b51-5135-4c84-fa0c-fc6c3e4511dc"
      },
      "execution_count": 436,
      "outputs": [
        {
          "output_type": "execute_result",
          "data": {
            "text/plain": [
              "array([0, 1, 2, 3, 4, 5, 6], dtype=int32)"
            ]
          },
          "metadata": {},
          "execution_count": 436
        }
      ]
    },
    {
      "cell_type": "code",
      "source": [
        "#Save each cluster's index for all cases(27cases)\n",
        "labels = pd.Series(tfidf_umap_hdbscan.labels_)\n",
        "cluster_0 = labels.index[labels==0]\n",
        "cluster_1 = labels.index[labels==1]\n",
        "cluster_2 = labels.index[labels==2]\n",
        "cluster_3 = labels.index[labels==3]\n",
        "cluster_4 = labels.index[labels==4]\n",
        "cluster_5 = labels.index[labels==5]\n",
        "cluster_6 = labels.index[labels==6]\n",
        "cluster_7 = labels.index[labels==7]\n",
        "cluster_8 = labels.index[labels==8]\n",
        "cluster_9 = labels.index[labels==9]\n",
        "cluster_10 = labels.index[labels==10]\n",
        "cluster_11 = labels.index[labels==11]\n",
        "cluster_12 = labels.index[labels==12]\n",
        "cluster_13 = labels.index[labels==13]\n",
        "cluster_14 = labels.index[labels==14]\n",
        "cluster_15 = labels.index[labels==-1]"
      ],
      "metadata": {
        "id": "cNDya4Yj136z"
      },
      "execution_count": 422,
      "outputs": []
    },
    {
      "cell_type": "code",
      "source": [
        "#Save each cluster's index for all cases(27cases)\n",
        "clusters=[cluster_0, cluster_1, cluster_2, cluster_3, cluster_4, cluster_5, cluster_6, cluster_7, cluster_8, cluster_9, cluster_10, cluster_11, cluster_12,\n",
        "          cluster_13, cluster_14, cluster_15]"
      ],
      "metadata": {
        "id": "LB72DsoO3f-F"
      },
      "execution_count": 423,
      "outputs": []
    },
    {
      "cell_type": "code",
      "source": [
        "#Calculate cosine similarity for all cluster\n",
        "clustering_quality=[]\n",
        "for c in clusters:\n",
        "  clustering_quality.append((cosine_similarity(embeddings_sbert[c]).sum() - len(c)) / (len(c)*len(c)-1))"
      ],
      "metadata": {
        "id": "l1JotjiY3Qyg"
      },
      "execution_count": 424,
      "outputs": []
    },
    {
      "cell_type": "code",
      "source": [
        "clustering_quality"
      ],
      "metadata": {
        "colab": {
          "base_uri": "https://localhost:8080/"
        },
        "id": "9ZMNyQmB4ZOy",
        "outputId": "90c4a7f8-f739-4f67-964f-7a1ed3d67b99"
      },
      "execution_count": 425,
      "outputs": [
        {
          "output_type": "execute_result",
          "data": {
            "text/plain": [
              "[0.5931564172108968,\n",
              " 0.3180164761013455,\n",
              " 0.3653745940237334,\n",
              " 0.49824537549700054,\n",
              " 0.4637500239353554,\n",
              " 0.441962650844029,\n",
              " 0.34545103708902997,\n",
              " 0.3950981193489128,\n",
              " 0.35609258015950523,\n",
              " 0.3550162300605892,\n",
              " 0.5544767379760742,\n",
              " 0.3359201431274414,\n",
              " 0.3512550337874108,\n",
              " 0.4187391371954055,\n",
              " 0.4187368301146808,\n",
              " 0.271366452413892]"
            ]
          },
          "metadata": {},
          "execution_count": 425
        }
      ]
    },
    {
      "cell_type": "code",
      "source": [
        "#Calculate pairwise distance using cosine similiarity within each clusters and average them by each cases\n",
        "tfidf_umap_hdbscan_q=np.mean(clustering_quality)"
      ],
      "metadata": {
        "id": "7LGYsHgN4S8g"
      },
      "execution_count": 426,
      "outputs": []
    },
    {
      "cell_type": "code",
      "source": [
        "#Make dataframe with all models used and the clustering quality\n",
        "overall = pd.DataFrame(columns=['Embedding model', 'Dimension reduction model', 'Clustering model', 'Quality'])"
      ],
      "metadata": {
        "id": "LIhX8M1fNMHH"
      },
      "execution_count": 411,
      "outputs": []
    },
    {
      "cell_type": "code",
      "source": [
        "overall['Embedding model']=['SBERT','SBERT','SBERT','SBERT','SBERT','SBERT','SBERT','SBERT','SBERT',\n",
        "                            'FastText','FastText','FastText','FastText','FastText','FastText','FastText','FastText','FastText',\n",
        "                            'TF-IDF','TF-IDF','TF-IDF','TF-IDF','TF-IDF','TF-IDF','TF-IDF','TF-IDF','TF-IDF']"
      ],
      "metadata": {
        "id": "EMcQGGo7NZta"
      },
      "execution_count": 412,
      "outputs": []
    },
    {
      "cell_type": "code",
      "source": [
        "overall['Dimension reduction model']=['PCA','PCA','PCA','t-SNE','t-SNE','t-SNE','UMAP','UMAP','UMAP',\n",
        "                                      'PCA','PCA','PCA','t-SNE','t-SNE','t-SNE','UMAP','UMAP','UMAP',\n",
        "                                      'PCA','PCA','PCA','t-SNE','t-SNE','t-SNE','UMAP','UMAP','UMAP']"
      ],
      "metadata": {
        "id": "6fn8wbB7Ntfu"
      },
      "execution_count": 414,
      "outputs": []
    },
    {
      "cell_type": "code",
      "source": [
        "overall['Clustering model']=['k-means','GMM','HDBSCAN','k-means','GMM','HDBSCAN','k-means','GMM','HDBSCAN',\n",
        "                             'k-means','GMM','HDBSCAN','k-means','GMM','HDBSCAN','k-means','GMM','HDBSCAN',\n",
        "                             'k-means','GMM','HDBSCAN','k-means','GMM','HDBSCAN','k-means','GMM','HDBSCAN']"
      ],
      "metadata": {
        "id": "XrsyrZ9ROB4K"
      },
      "execution_count": 416,
      "outputs": []
    },
    {
      "cell_type": "code",
      "source": [
        "overall['Quality']=[sbert_pca_kmeans_q, sbert_pca_gmm_q, sbert_pca_hdbscan_q, sbert_tsne_kmeans_q, sbert_tsne_gmm_q, sbert_tsne_hdbscan_q, sbert_umap_kmeans_q, sbert_umap_gmm_q, sbert_umap_hdbscan_q,\n",
        "                    ft_pca_kmeans_q, ft_pca_gmm_q, ft_pca_hdbscan_q, ft_tsne_kmeans_q, ft_tsne_gmm_q, ft_tsne_hdbscan_q, ft_umap_kmeans_q, ft_umap_gmm_q, ft_umap_hdbscan_q,\n",
        "                    tfidf_pca_kmeans_q, tfidf_pca_gmm_q, tfidf_pca_hdbscan_q, tfidf_tsne_kmeans_q, tfidf_tsne_gmm_q, tfidf_tsne_hdbscan_q, tfidf_umap_kmeans_q, tfidf_umap_gmm_q, tfidf_umap_hdbscan_q] \n"
      ],
      "metadata": {
        "id": "Nd1G0iRtOOoo"
      },
      "execution_count": 444,
      "outputs": []
    },
    {
      "cell_type": "markdown",
      "source": [
        "## Overall Results"
      ],
      "metadata": {
        "id": "pIjOdqycVZTV"
      }
    },
    {
      "cell_type": "code",
      "source": [
        "overall"
      ],
      "metadata": {
        "colab": {
          "base_uri": "https://localhost:8080/",
          "height": 896
        },
        "id": "sK485ZP2P1Hq",
        "outputId": "20466705-1a07-4e88-cebc-3a7ffda90590"
      },
      "execution_count": 445,
      "outputs": [
        {
          "output_type": "execute_result",
          "data": {
            "text/plain": [
              "   Embedding model Dimension reduction model Clustering model   Quality\n",
              "0            SBERT                       PCA          k-means  0.420402\n",
              "1            SBERT                       PCA              GMM  0.425004\n",
              "2            SBERT                       PCA          HDBSCAN  0.340478\n",
              "3            SBERT                     t-SNE          k-means  0.408841\n",
              "4            SBERT                     t-SNE              GMM  0.371779\n",
              "5            SBERT                     t-SNE          HDBSCAN  0.383420\n",
              "6            SBERT                      UMAP          k-means  0.425900\n",
              "7            SBERT                      UMAP              GMM  0.419227\n",
              "8            SBERT                      UMAP          HDBSCAN  0.491033\n",
              "9         FastText                       PCA          k-means  0.310573\n",
              "10        FastText                       PCA              GMM  0.296911\n",
              "11        FastText                       PCA          HDBSCAN  0.266698\n",
              "12        FastText                     t-SNE          k-means  0.369834\n",
              "13        FastText                     t-SNE              GMM  0.397018\n",
              "14        FastText                     t-SNE          HDBSCAN  0.399378\n",
              "15        FastText                      UMAP          k-means  0.418292\n",
              "16        FastText                      UMAP              GMM  0.429732\n",
              "17        FastText                      UMAP          HDBSCAN  0.437928\n",
              "18          TF-IDF                       PCA          k-means  0.538416\n",
              "19          TF-IDF                       PCA              GMM  0.524439\n",
              "20          TF-IDF                       PCA          HDBSCAN  0.479325\n",
              "21          TF-IDF                     t-SNE          k-means  0.362463\n",
              "22          TF-IDF                     t-SNE              GMM  0.340084\n",
              "23          TF-IDF                     t-SNE          HDBSCAN  0.436824\n",
              "24          TF-IDF                      UMAP          k-means  0.408026\n",
              "25          TF-IDF                      UMAP              GMM  0.406701\n",
              "26          TF-IDF                      UMAP          HDBSCAN  0.405166"
            ],
            "text/html": [
              "\n",
              "  <div id=\"df-921805a3-28e4-475d-9ba5-bb9e87a7846b\">\n",
              "    <div class=\"colab-df-container\">\n",
              "      <div>\n",
              "<style scoped>\n",
              "    .dataframe tbody tr th:only-of-type {\n",
              "        vertical-align: middle;\n",
              "    }\n",
              "\n",
              "    .dataframe tbody tr th {\n",
              "        vertical-align: top;\n",
              "    }\n",
              "\n",
              "    .dataframe thead th {\n",
              "        text-align: right;\n",
              "    }\n",
              "</style>\n",
              "<table border=\"1\" class=\"dataframe\">\n",
              "  <thead>\n",
              "    <tr style=\"text-align: right;\">\n",
              "      <th></th>\n",
              "      <th>Embedding model</th>\n",
              "      <th>Dimension reduction model</th>\n",
              "      <th>Clustering model</th>\n",
              "      <th>Quality</th>\n",
              "    </tr>\n",
              "  </thead>\n",
              "  <tbody>\n",
              "    <tr>\n",
              "      <th>0</th>\n",
              "      <td>SBERT</td>\n",
              "      <td>PCA</td>\n",
              "      <td>k-means</td>\n",
              "      <td>0.420402</td>\n",
              "    </tr>\n",
              "    <tr>\n",
              "      <th>1</th>\n",
              "      <td>SBERT</td>\n",
              "      <td>PCA</td>\n",
              "      <td>GMM</td>\n",
              "      <td>0.425004</td>\n",
              "    </tr>\n",
              "    <tr>\n",
              "      <th>2</th>\n",
              "      <td>SBERT</td>\n",
              "      <td>PCA</td>\n",
              "      <td>HDBSCAN</td>\n",
              "      <td>0.340478</td>\n",
              "    </tr>\n",
              "    <tr>\n",
              "      <th>3</th>\n",
              "      <td>SBERT</td>\n",
              "      <td>t-SNE</td>\n",
              "      <td>k-means</td>\n",
              "      <td>0.408841</td>\n",
              "    </tr>\n",
              "    <tr>\n",
              "      <th>4</th>\n",
              "      <td>SBERT</td>\n",
              "      <td>t-SNE</td>\n",
              "      <td>GMM</td>\n",
              "      <td>0.371779</td>\n",
              "    </tr>\n",
              "    <tr>\n",
              "      <th>5</th>\n",
              "      <td>SBERT</td>\n",
              "      <td>t-SNE</td>\n",
              "      <td>HDBSCAN</td>\n",
              "      <td>0.383420</td>\n",
              "    </tr>\n",
              "    <tr>\n",
              "      <th>6</th>\n",
              "      <td>SBERT</td>\n",
              "      <td>UMAP</td>\n",
              "      <td>k-means</td>\n",
              "      <td>0.425900</td>\n",
              "    </tr>\n",
              "    <tr>\n",
              "      <th>7</th>\n",
              "      <td>SBERT</td>\n",
              "      <td>UMAP</td>\n",
              "      <td>GMM</td>\n",
              "      <td>0.419227</td>\n",
              "    </tr>\n",
              "    <tr>\n",
              "      <th>8</th>\n",
              "      <td>SBERT</td>\n",
              "      <td>UMAP</td>\n",
              "      <td>HDBSCAN</td>\n",
              "      <td>0.491033</td>\n",
              "    </tr>\n",
              "    <tr>\n",
              "      <th>9</th>\n",
              "      <td>FastText</td>\n",
              "      <td>PCA</td>\n",
              "      <td>k-means</td>\n",
              "      <td>0.310573</td>\n",
              "    </tr>\n",
              "    <tr>\n",
              "      <th>10</th>\n",
              "      <td>FastText</td>\n",
              "      <td>PCA</td>\n",
              "      <td>GMM</td>\n",
              "      <td>0.296911</td>\n",
              "    </tr>\n",
              "    <tr>\n",
              "      <th>11</th>\n",
              "      <td>FastText</td>\n",
              "      <td>PCA</td>\n",
              "      <td>HDBSCAN</td>\n",
              "      <td>0.266698</td>\n",
              "    </tr>\n",
              "    <tr>\n",
              "      <th>12</th>\n",
              "      <td>FastText</td>\n",
              "      <td>t-SNE</td>\n",
              "      <td>k-means</td>\n",
              "      <td>0.369834</td>\n",
              "    </tr>\n",
              "    <tr>\n",
              "      <th>13</th>\n",
              "      <td>FastText</td>\n",
              "      <td>t-SNE</td>\n",
              "      <td>GMM</td>\n",
              "      <td>0.397018</td>\n",
              "    </tr>\n",
              "    <tr>\n",
              "      <th>14</th>\n",
              "      <td>FastText</td>\n",
              "      <td>t-SNE</td>\n",
              "      <td>HDBSCAN</td>\n",
              "      <td>0.399378</td>\n",
              "    </tr>\n",
              "    <tr>\n",
              "      <th>15</th>\n",
              "      <td>FastText</td>\n",
              "      <td>UMAP</td>\n",
              "      <td>k-means</td>\n",
              "      <td>0.418292</td>\n",
              "    </tr>\n",
              "    <tr>\n",
              "      <th>16</th>\n",
              "      <td>FastText</td>\n",
              "      <td>UMAP</td>\n",
              "      <td>GMM</td>\n",
              "      <td>0.429732</td>\n",
              "    </tr>\n",
              "    <tr>\n",
              "      <th>17</th>\n",
              "      <td>FastText</td>\n",
              "      <td>UMAP</td>\n",
              "      <td>HDBSCAN</td>\n",
              "      <td>0.437928</td>\n",
              "    </tr>\n",
              "    <tr>\n",
              "      <th>18</th>\n",
              "      <td>TF-IDF</td>\n",
              "      <td>PCA</td>\n",
              "      <td>k-means</td>\n",
              "      <td>0.538416</td>\n",
              "    </tr>\n",
              "    <tr>\n",
              "      <th>19</th>\n",
              "      <td>TF-IDF</td>\n",
              "      <td>PCA</td>\n",
              "      <td>GMM</td>\n",
              "      <td>0.524439</td>\n",
              "    </tr>\n",
              "    <tr>\n",
              "      <th>20</th>\n",
              "      <td>TF-IDF</td>\n",
              "      <td>PCA</td>\n",
              "      <td>HDBSCAN</td>\n",
              "      <td>0.479325</td>\n",
              "    </tr>\n",
              "    <tr>\n",
              "      <th>21</th>\n",
              "      <td>TF-IDF</td>\n",
              "      <td>t-SNE</td>\n",
              "      <td>k-means</td>\n",
              "      <td>0.362463</td>\n",
              "    </tr>\n",
              "    <tr>\n",
              "      <th>22</th>\n",
              "      <td>TF-IDF</td>\n",
              "      <td>t-SNE</td>\n",
              "      <td>GMM</td>\n",
              "      <td>0.340084</td>\n",
              "    </tr>\n",
              "    <tr>\n",
              "      <th>23</th>\n",
              "      <td>TF-IDF</td>\n",
              "      <td>t-SNE</td>\n",
              "      <td>HDBSCAN</td>\n",
              "      <td>0.436824</td>\n",
              "    </tr>\n",
              "    <tr>\n",
              "      <th>24</th>\n",
              "      <td>TF-IDF</td>\n",
              "      <td>UMAP</td>\n",
              "      <td>k-means</td>\n",
              "      <td>0.408026</td>\n",
              "    </tr>\n",
              "    <tr>\n",
              "      <th>25</th>\n",
              "      <td>TF-IDF</td>\n",
              "      <td>UMAP</td>\n",
              "      <td>GMM</td>\n",
              "      <td>0.406701</td>\n",
              "    </tr>\n",
              "    <tr>\n",
              "      <th>26</th>\n",
              "      <td>TF-IDF</td>\n",
              "      <td>UMAP</td>\n",
              "      <td>HDBSCAN</td>\n",
              "      <td>0.405166</td>\n",
              "    </tr>\n",
              "  </tbody>\n",
              "</table>\n",
              "</div>\n",
              "      <button class=\"colab-df-convert\" onclick=\"convertToInteractive('df-921805a3-28e4-475d-9ba5-bb9e87a7846b')\"\n",
              "              title=\"Convert this dataframe to an interactive table.\"\n",
              "              style=\"display:none;\">\n",
              "        \n",
              "  <svg xmlns=\"http://www.w3.org/2000/svg\" height=\"24px\"viewBox=\"0 0 24 24\"\n",
              "       width=\"24px\">\n",
              "    <path d=\"M0 0h24v24H0V0z\" fill=\"none\"/>\n",
              "    <path d=\"M18.56 5.44l.94 2.06.94-2.06 2.06-.94-2.06-.94-.94-2.06-.94 2.06-2.06.94zm-11 1L8.5 8.5l.94-2.06 2.06-.94-2.06-.94L8.5 2.5l-.94 2.06-2.06.94zm10 10l.94 2.06.94-2.06 2.06-.94-2.06-.94-.94-2.06-.94 2.06-2.06.94z\"/><path d=\"M17.41 7.96l-1.37-1.37c-.4-.4-.92-.59-1.43-.59-.52 0-1.04.2-1.43.59L10.3 9.45l-7.72 7.72c-.78.78-.78 2.05 0 2.83L4 21.41c.39.39.9.59 1.41.59.51 0 1.02-.2 1.41-.59l7.78-7.78 2.81-2.81c.8-.78.8-2.07 0-2.86zM5.41 20L4 18.59l7.72-7.72 1.47 1.35L5.41 20z\"/>\n",
              "  </svg>\n",
              "      </button>\n",
              "      \n",
              "  <style>\n",
              "    .colab-df-container {\n",
              "      display:flex;\n",
              "      flex-wrap:wrap;\n",
              "      gap: 12px;\n",
              "    }\n",
              "\n",
              "    .colab-df-convert {\n",
              "      background-color: #E8F0FE;\n",
              "      border: none;\n",
              "      border-radius: 50%;\n",
              "      cursor: pointer;\n",
              "      display: none;\n",
              "      fill: #1967D2;\n",
              "      height: 32px;\n",
              "      padding: 0 0 0 0;\n",
              "      width: 32px;\n",
              "    }\n",
              "\n",
              "    .colab-df-convert:hover {\n",
              "      background-color: #E2EBFA;\n",
              "      box-shadow: 0px 1px 2px rgba(60, 64, 67, 0.3), 0px 1px 3px 1px rgba(60, 64, 67, 0.15);\n",
              "      fill: #174EA6;\n",
              "    }\n",
              "\n",
              "    [theme=dark] .colab-df-convert {\n",
              "      background-color: #3B4455;\n",
              "      fill: #D2E3FC;\n",
              "    }\n",
              "\n",
              "    [theme=dark] .colab-df-convert:hover {\n",
              "      background-color: #434B5C;\n",
              "      box-shadow: 0px 1px 3px 1px rgba(0, 0, 0, 0.15);\n",
              "      filter: drop-shadow(0px 1px 2px rgba(0, 0, 0, 0.3));\n",
              "      fill: #FFFFFF;\n",
              "    }\n",
              "  </style>\n",
              "\n",
              "      <script>\n",
              "        const buttonEl =\n",
              "          document.querySelector('#df-921805a3-28e4-475d-9ba5-bb9e87a7846b button.colab-df-convert');\n",
              "        buttonEl.style.display =\n",
              "          google.colab.kernel.accessAllowed ? 'block' : 'none';\n",
              "\n",
              "        async function convertToInteractive(key) {\n",
              "          const element = document.querySelector('#df-921805a3-28e4-475d-9ba5-bb9e87a7846b');\n",
              "          const dataTable =\n",
              "            await google.colab.kernel.invokeFunction('convertToInteractive',\n",
              "                                                     [key], {});\n",
              "          if (!dataTable) return;\n",
              "\n",
              "          const docLinkHtml = 'Like what you see? Visit the ' +\n",
              "            '<a target=\"_blank\" href=https://colab.research.google.com/notebooks/data_table.ipynb>data table notebook</a>'\n",
              "            + ' to learn more about interactive tables.';\n",
              "          element.innerHTML = '';\n",
              "          dataTable['output_type'] = 'display_data';\n",
              "          await google.colab.output.renderOutput(dataTable, element);\n",
              "          const docLink = document.createElement('div');\n",
              "          docLink.innerHTML = docLinkHtml;\n",
              "          element.appendChild(docLink);\n",
              "        }\n",
              "      </script>\n",
              "    </div>\n",
              "  </div>\n",
              "  "
            ]
          },
          "metadata": {},
          "execution_count": 445
        }
      ]
    },
    {
      "cell_type": "markdown",
      "source": [
        "## Visualization"
      ],
      "metadata": {
        "id": "VPGXIVb8Q4uX"
      }
    },
    {
      "cell_type": "code",
      "source": [
        "# Visualize SBERT Clustering result with higest quality\n",
        "fig = px.scatter(sbert_umap_df, x=\"x\", y=\"y\", color=\"hdbscan_labels\", title='SBERT - UMAP - HDBSCAN',\n",
        "                 width=1000,height =800)\n",
        "fig.show()"
      ],
      "metadata": {
        "colab": {
          "base_uri": "https://localhost:8080/",
          "height": 817
        },
        "id": "7Ehj06xBSiJs",
        "outputId": "4d61c865-2a64-495b-c416-94b6faf872d8"
      },
      "execution_count": 470,
      "outputs": [
        {
          "output_type": "display_data",
          "data": {
            "text/html": [
              "<html>\n",
              "<head><meta charset=\"utf-8\" /></head>\n",
              "<body>\n",
              "    <div>            <script src=\"https://cdnjs.cloudflare.com/ajax/libs/mathjax/2.7.5/MathJax.js?config=TeX-AMS-MML_SVG\"></script><script type=\"text/javascript\">if (window.MathJax) {MathJax.Hub.Config({SVG: {font: \"STIX-Web\"}});}</script>                <script type=\"text/javascript\">window.PlotlyConfig = {MathJaxConfig: 'local'};</script>\n",
              "        <script src=\"https://cdn.plot.ly/plotly-2.8.3.min.js\"></script>                <div id=\"78de9f77-ef31-4dfb-bc21-05bf49f74fad\" class=\"plotly-graph-div\" style=\"height:800px; width:1000px;\"></div>            <script type=\"text/javascript\">                                    window.PLOTLYENV=window.PLOTLYENV || {};                                    if (document.getElementById(\"78de9f77-ef31-4dfb-bc21-05bf49f74fad\")) {                    Plotly.newPlot(                        \"78de9f77-ef31-4dfb-bc21-05bf49f74fad\",                        [{\"hovertemplate\":\"x=%{x}<br>y=%{y}<br>hdbscan_labels=%{marker.color}<extra></extra>\",\"legendgroup\":\"\",\"marker\":{\"color\":[9,-1,9,0,9,9,8,9,9,9,9,9,9,9,8,9,4,9,3,9,8,9,9,9,9,9,9,9,9,3,8,9,3,0,9,0,8,9,1,3,9,9,9,3,9,9,9,9,9,9,3,9,9,9,9,9,9,8,8,9,9,9,9,4,9,9,9,9,9,3,3,4,9,5,9,9,9,9,9,9,9,8,9,0,9,9,8,9,9,9,9,8,9,8,8,9,9,9,9,9,9,8,9,9,9,9,9,9,9,5,9,9,9,9,7,3,-1,9,9,9,9,9,9,9,8,8,8,9,9,9,9,2,9,9,9,9,0,9,9,0,0,4,9,0,2,9,9,9,0,3,9,8,9,9,5,5,9,9,9,8,4,9,9,-1,9,0,9,1,9,2,9,9,9,9,9,9,9,2,6,2,9,8,5,5,5,5,6,6,9,9,3,9,4,9,8,6,4,8,9,8,0,5,5,8,9,9,3,9,8,5,6,3,9,7,9,-1,6,6,7,9,9,9,0,3,1,5,8,8,7,2,5,6,9,9,9,9,9,6,9,9,5,4,6,9,9,5,9,9,6,4,-1,2,8,0,8,7,9,1,9,1,5,5,9,9,6,6,3,9,4,1,-1,8,2,6,6,6,6,6,9,0,8,9,1,4,7,8,9,9,9,9,7,6,9,8,1,6,1,6,2,5,6,4,6,9,5,7,8,0],\"coloraxis\":\"coloraxis\",\"symbol\":\"circle\"},\"mode\":\"markers\",\"name\":\"\",\"orientation\":\"v\",\"showlegend\":false,\"x\":[3.9580624103546143,4.797420024871826,4.054235935211182,1.809202790260315,3.1062331199645996,2.6956021785736084,5.562618255615234,2.2464230060577393,4.259824752807617,2.1644952297210693,2.0661725997924805,1.9918224811553955,2.171220302581787,4.68397855758667,5.753361225128174,2.653244972229004,6.726304531097412,4.439022064208984,4.15181827545166,4.051472187042236,5.668848514556885,2.980726957321167,2.3283283710479736,2.288233995437622,3.286839246749878,4.210883617401123,2.192624807357788,3.0537824630737305,2.451110363006592,4.1930952072143555,5.49328088760376,4.294703006744385,3.9936349391937256,1.6635416746139526,1.9148330688476562,1.7674070596694946,5.619335651397705,4.168727874755859,7.456421375274658,3.9153451919555664,3.4441778659820557,2.0330090522766113,2.238314390182495,4.230457782745361,3.355440378189087,4.23680305480957,2.6208560466766357,2.263845205307007,3.536440372467041,3.0679426193237305,4.007336616516113,4.612183570861816,2.791933298110962,4.285897731781006,3.8667261600494385,4.568493843078613,3.638532876968384,5.654380798339844,5.077292442321777,3.8296701908111572,2.225398302078247,4.101219654083252,4.572669506072998,6.601153373718262,3.947298765182495,3.664865493774414,3.6453850269317627,3.0099287033081055,4.0898566246032715,4.366965293884277,4.537099838256836,6.994308948516846,4.398195743560791,4.644680023193359,3.5590126514434814,3.1155879497528076,2.237114906311035,3.617367744445801,4.162938594818115,3.3857247829437256,4.264376163482666,5.1813483238220215,3.725203275680542,2.1246628761291504,1.8551331758499146,3.061767339706421,4.962942123413086,4.877761363983154,4.123780250549316,2.6914854049682617,3.0848374366760254,5.939645290374756,3.6246495246887207,5.890128135681152,5.061683177947998,3.7258787155151367,3.936781406402588,3.542557954788208,3.50947904586792,4.429136276245117,3.053579330444336,5.256815433502197,3.802459955215454,3.7672274112701416,3.058051586151123,3.2574665546417236,3.7968177795410156,3.778364658355713,3.08611798286438,5.459255695343018,2.306234836578369,3.0413646697998047,1.8143510818481445,3.133543014526367,6.109038352966309,4.025485992431641,6.991800785064697,3.943969488143921,2.2374415397644043,4.096945762634277,3.788203239440918,2.9818308353424072,4.481429100036621,4.140744686126709,5.923095226287842,5.433088779449463,5.261962413787842,3.5755739212036133,3.0321006774902344,3.847689628601074,4.1648054122924805,2.0406746864318848,2.3338513374328613,3.4828109741210938,4.651508808135986,3.9234933853149414,1.6207329034805298,3.6406164169311523,3.5604968070983887,2.1492440700531006,2.047353506088257,6.566039085388184,4.5044684410095215,1.6999783515930176,2.1170403957366943,4.355780124664307,3.325169324874878,3.2718005180358887,2.0532102584838867,3.9355289936065674,4.484004020690918,5.559383869171143,3.828972816467285,2.4836533069610596,5.4851579666137695,4.854255199432373,2.574993133544922,3.673238515853882,3.355954885482788,5.988523483276367,7.041641712188721,4.238468647003174,1.8199213743209839,6.784533500671387,3.7811787128448486,1.6903208494186401,4.0870680809021,7.388500690460205,3.9760403633117676,2.0548510551452637,4.26331901550293,4.461656093597412,4.709688663482666,4.78659200668335,3.9672842025756836,3.513418436050415,3.4205145835876465,2.043100118637085,7.620875358581543,2.1370184421539307,4.339267730712891,5.242984294891357,5.606612682342529,5.329000949859619,5.284083366394043,5.591604232788086,7.940275192260742,7.201921463012695,4.064260959625244,4.613836765289307,4.068052291870117,3.7089638710021973,7.316928386688232,4.689457416534424,5.2586236000061035,6.7573981285095215,7.011335372924805,5.847798824310303,4.66989803314209,5.843425273895264,2.175288677215576,5.197927474975586,5.558646202087402,4.967094898223877,3.3497517108917236,4.437163352966309,4.309998035430908,2.6282081604003906,5.230557918548584,5.515435218811035,7.37785005569458,4.130687713623047,4.448977470397949,5.751528263092041,5.104433536529541,6.761012554168701,7.8600592613220215,5.812493324279785,5.653835296630859,4.9069366455078125,4.279145240783691,4.655040264129639,2.1624796390533447,4.149971961975098,7.312999725341797,4.758016586303711,5.535584926605225,5.2324934005737305,6.227967739105225,2.0590579509735107,5.586785316467285,7.566444396972656,4.2597503662109375,3.7232635021209717,4.612180233001709,5.072748184204102,4.716074466705322,7.4595818519592285,4.953669548034668,3.885500192642212,4.579118251800537,7.019010543823242,6.680334568023682,3.274873733520508,4.490037441253662,4.754465579986572,4.690345764160156,4.71440315246582,6.82490348815918,7.166258811950684,4.887643337249756,2.1178643703460693,5.576798439025879,2.1726181507110596,5.608153820037842,5.795124530792236,5.034210205078125,7.251744270324707,4.598466396331787,7.3048224449157715,5.4937005043029785,4.587800979614258,4.12241792678833,5.0314412117004395,7.846400737762451,7.202650547027588,4.3080925941467285,3.605463981628418,7.01529598236084,7.37680721282959,6.7865376472473145,5.656070709228516,2.06007981300354,7.693271636962891,5.781811237335205,6.077230453491211,7.398195266723633,7.871975421905518,3.980271577835083,2.2414655685424805,5.483890056610107,4.993924617767334,7.330801963806152,7.008805274963379,5.721798419952393,5.938802719116211,4.6619062423706055,4.001958847045898,4.4088521003723145,4.2449631690979,5.7167887687683105,7.840433120727539,4.658892631530762,5.41725492477417,7.300891399383545,7.799895286560059,7.311739921569824,6.52215576171875,2.0781028270721436,4.655642509460449,6.534956455230713,6.9579973220825195,5.787571907043457,4.7270026206970215,5.292201995849609,5.81840181350708,5.748575210571289,2.2614006996154785],\"xaxis\":\"x\",\"y\":[12.87665843963623,12.939401626586914,11.892439842224121,7.9156084060668945,15.235886573791504,14.710308074951172,15.361040115356445,14.562331199645996,12.32558536529541,13.707876205444336,14.09531307220459,14.289595603942871,14.52563190460205,15.893723487854004,14.94663143157959,14.563902854919434,14.78497314453125,15.537010192871094,17.04303741455078,14.784812927246094,14.023856163024902,14.701685905456543,13.261181831359863,13.314493179321289,12.432450294494629,15.355300903320312,13.694114685058594,15.587040901184082,13.200928688049316,17.14251136779785,15.129545211791992,12.307698249816895,17.186662673950195,7.937964916229248,14.128905296325684,7.912237167358398,15.330375671386719,11.690176963806152,10.226791381835938,17.22785758972168,15.062232971191406,14.29417896270752,13.75073528289795,17.141483306884766,15.486530303955078,15.65815258026123,14.471122741699219,14.012645721435547,13.172104835510254,13.441003799438477,17.187314987182617,15.822677612304688,14.81535530090332,15.981432914733887,13.103410720825195,15.38750171661377,15.333562850952148,14.969006538391113,14.253213882446289,13.09640121459961,13.71914005279541,15.262433052062988,12.139317512512207,14.890725135803223,15.224552154541016,15.613037109375,13.486732482910156,15.113495826721191,15.46155834197998,16.987998962402344,16.72437286376953,14.624195098876953,12.424947738647461,10.161886215209961,13.42365837097168,13.242542266845703,13.511924743652344,11.760932922363281,12.889423370361328,11.924283981323242,15.624839782714844,14.907185554504395,14.65569019317627,7.986003398895264,14.184591293334961,13.155817985534668,14.18338680267334,15.85751724243164,12.464890480041504,14.678427696228027,12.925318717956543,14.53213119506836,15.142928123474121,14.511216163635254,14.24815845489502,12.6934175491333,11.612811088562012,15.197521209716797,11.866084098815918,14.959029197692871,15.318806648254395,14.807555198669434,12.589010238647461,11.4757661819458,12.99102783203125,12.750404357910156,13.70512580871582,14.919849395751953,15.365307807922363,9.506446838378906,13.957435607910156,15.543925285339355,14.124540328979492,14.472373008728027,12.792580604553223,17.149314880371094,12.839993476867676,11.65260124206543,13.745314598083496,15.557687759399414,15.088729858398438,14.221722602844238,12.314038276672363,13.525413513183594,14.4852933883667,13.971503257751465,14.842273712158203,11.328972816467285,13.305316925048828,14.52071475982666,14.511528015136719,10.803110122680664,13.225348472595215,15.440726280212402,15.864534378051758,14.405467987060547,7.971808910369873,12.429161071777344,14.839667320251465,7.968633651733398,7.896206378936768,14.89752197265625,11.489998817443848,7.960707664489746,11.103805541992188,11.13905143737793,12.023897171020508,15.384891510009766,7.915485858917236,17.21056365966797,14.584108352661133,15.456827163696289,15.217461585998535,14.360886573791504,9.427746772766113,9.934272766113281,13.84701156616211,14.637060165405273,13.193012237548828,14.482657432556152,14.762249946594238,12.833427429199219,14.092885971069336,12.728888511657715,15.169392585754395,7.976100921630859,12.094796180725098,10.267690658569336,14.323968887329102,10.813639640808105,14.303367614746094,15.322125434875488,15.154189109802246,11.424461364746094,12.995879173278809,15.0155668258667,11.911951065063477,10.798059463500977,12.424582481384277,11.204204559326172,15.733789443969727,15.223109245300293,9.308164596557617,9.572036743164062,9.581944465637207,9.888206481933594,12.752509117126465,12.254069328308105,12.824012756347656,15.1810884475708,16.77025604248047,13.351518630981445,14.527848243713379,11.53633975982666,14.767865180969238,11.867558479309082,14.713438034057617,14.137866973876953,12.221833229064941,14.110274314880371,8.016571044921875,9.659575462341309,9.457547187805176,14.43260669708252,14.270934104919434,14.312795639038086,17.11977195739746,13.608550071716309,14.366745948791504,9.490392684936523,12.452001571655273,16.835092544555664,11.611346244812012,13.064005851745605,11.183910369873047,12.83099365234375,12.666238784790039,11.93697452545166,13.022574424743652,15.696115493774414,13.636137962341309,13.457996368408203,8.01182746887207,16.923307418823242,10.337011337280273,10.231410026550293,13.884947776794434,14.79910945892334,12.751219749450684,10.816997528076172,9.286589622497559,12.962882041931152,11.22818374633789,15.224019050598145,16.004444122314453,10.975448608398438,12.098304748535156,12.443214416503906,11.28355598449707,14.45638370513916,10.224106788635254,14.345376968383789,11.79240608215332,12.217127799987793,11.829651832580566,10.34595775604248,12.067594528198242,12.086978912353516,11.93446159362793,14.652443885803223,12.831524848937988,11.239961624145508,15.076922416687012,8.20252799987793,15.412337303161621,13.43056583404541,11.283299446105957,10.323723793029785,13.462801933288574,10.29025650024414,9.378854751586914,10.245192527770996,11.947959899902344,11.228075981140137,12.660696983337402,12.252276420593262,17.053997039794922,11.298294067382812,14.212514877319336,10.27279281616211,12.698741912841797,15.304688453674316,10.826478004455566,12.747063636779785,12.107962608337402,11.689085960388184,12.444189071655273,12.63810920715332,13.171879768371582,8.079034805297852,13.908706665039062,11.270211219787598,10.363088607788086,14.71823501586914,13.046092987060547,14.513409614562988,13.610605239868164,14.39008617401123,11.268524169921875,13.54692554473877,13.061795234680176,12.68292236328125,11.45810604095459,15.085196495056152,10.350898742675781,12.69063949584961,10.35839557647705,11.671049118041992,10.858453750610352,10.173812866210938,11.629020690917969,14.744140625,11.782835006713867,13.554510116577148,9.577319145202637,13.262948989868164,14.06283950805664,8.141631126403809],\"yaxis\":\"y\",\"type\":\"scatter\"}],                        {\"template\":{\"data\":{\"bar\":[{\"error_x\":{\"color\":\"#2a3f5f\"},\"error_y\":{\"color\":\"#2a3f5f\"},\"marker\":{\"line\":{\"color\":\"#E5ECF6\",\"width\":0.5},\"pattern\":{\"fillmode\":\"overlay\",\"size\":10,\"solidity\":0.2}},\"type\":\"bar\"}],\"barpolar\":[{\"marker\":{\"line\":{\"color\":\"#E5ECF6\",\"width\":0.5},\"pattern\":{\"fillmode\":\"overlay\",\"size\":10,\"solidity\":0.2}},\"type\":\"barpolar\"}],\"carpet\":[{\"aaxis\":{\"endlinecolor\":\"#2a3f5f\",\"gridcolor\":\"white\",\"linecolor\":\"white\",\"minorgridcolor\":\"white\",\"startlinecolor\":\"#2a3f5f\"},\"baxis\":{\"endlinecolor\":\"#2a3f5f\",\"gridcolor\":\"white\",\"linecolor\":\"white\",\"minorgridcolor\":\"white\",\"startlinecolor\":\"#2a3f5f\"},\"type\":\"carpet\"}],\"choropleth\":[{\"colorbar\":{\"outlinewidth\":0,\"ticks\":\"\"},\"type\":\"choropleth\"}],\"contour\":[{\"colorbar\":{\"outlinewidth\":0,\"ticks\":\"\"},\"colorscale\":[[0.0,\"#0d0887\"],[0.1111111111111111,\"#46039f\"],[0.2222222222222222,\"#7201a8\"],[0.3333333333333333,\"#9c179e\"],[0.4444444444444444,\"#bd3786\"],[0.5555555555555556,\"#d8576b\"],[0.6666666666666666,\"#ed7953\"],[0.7777777777777778,\"#fb9f3a\"],[0.8888888888888888,\"#fdca26\"],[1.0,\"#f0f921\"]],\"type\":\"contour\"}],\"contourcarpet\":[{\"colorbar\":{\"outlinewidth\":0,\"ticks\":\"\"},\"type\":\"contourcarpet\"}],\"heatmap\":[{\"colorbar\":{\"outlinewidth\":0,\"ticks\":\"\"},\"colorscale\":[[0.0,\"#0d0887\"],[0.1111111111111111,\"#46039f\"],[0.2222222222222222,\"#7201a8\"],[0.3333333333333333,\"#9c179e\"],[0.4444444444444444,\"#bd3786\"],[0.5555555555555556,\"#d8576b\"],[0.6666666666666666,\"#ed7953\"],[0.7777777777777778,\"#fb9f3a\"],[0.8888888888888888,\"#fdca26\"],[1.0,\"#f0f921\"]],\"type\":\"heatmap\"}],\"heatmapgl\":[{\"colorbar\":{\"outlinewidth\":0,\"ticks\":\"\"},\"colorscale\":[[0.0,\"#0d0887\"],[0.1111111111111111,\"#46039f\"],[0.2222222222222222,\"#7201a8\"],[0.3333333333333333,\"#9c179e\"],[0.4444444444444444,\"#bd3786\"],[0.5555555555555556,\"#d8576b\"],[0.6666666666666666,\"#ed7953\"],[0.7777777777777778,\"#fb9f3a\"],[0.8888888888888888,\"#fdca26\"],[1.0,\"#f0f921\"]],\"type\":\"heatmapgl\"}],\"histogram\":[{\"marker\":{\"pattern\":{\"fillmode\":\"overlay\",\"size\":10,\"solidity\":0.2}},\"type\":\"histogram\"}],\"histogram2d\":[{\"colorbar\":{\"outlinewidth\":0,\"ticks\":\"\"},\"colorscale\":[[0.0,\"#0d0887\"],[0.1111111111111111,\"#46039f\"],[0.2222222222222222,\"#7201a8\"],[0.3333333333333333,\"#9c179e\"],[0.4444444444444444,\"#bd3786\"],[0.5555555555555556,\"#d8576b\"],[0.6666666666666666,\"#ed7953\"],[0.7777777777777778,\"#fb9f3a\"],[0.8888888888888888,\"#fdca26\"],[1.0,\"#f0f921\"]],\"type\":\"histogram2d\"}],\"histogram2dcontour\":[{\"colorbar\":{\"outlinewidth\":0,\"ticks\":\"\"},\"colorscale\":[[0.0,\"#0d0887\"],[0.1111111111111111,\"#46039f\"],[0.2222222222222222,\"#7201a8\"],[0.3333333333333333,\"#9c179e\"],[0.4444444444444444,\"#bd3786\"],[0.5555555555555556,\"#d8576b\"],[0.6666666666666666,\"#ed7953\"],[0.7777777777777778,\"#fb9f3a\"],[0.8888888888888888,\"#fdca26\"],[1.0,\"#f0f921\"]],\"type\":\"histogram2dcontour\"}],\"mesh3d\":[{\"colorbar\":{\"outlinewidth\":0,\"ticks\":\"\"},\"type\":\"mesh3d\"}],\"parcoords\":[{\"line\":{\"colorbar\":{\"outlinewidth\":0,\"ticks\":\"\"}},\"type\":\"parcoords\"}],\"pie\":[{\"automargin\":true,\"type\":\"pie\"}],\"scatter\":[{\"marker\":{\"colorbar\":{\"outlinewidth\":0,\"ticks\":\"\"}},\"type\":\"scatter\"}],\"scatter3d\":[{\"line\":{\"colorbar\":{\"outlinewidth\":0,\"ticks\":\"\"}},\"marker\":{\"colorbar\":{\"outlinewidth\":0,\"ticks\":\"\"}},\"type\":\"scatter3d\"}],\"scattercarpet\":[{\"marker\":{\"colorbar\":{\"outlinewidth\":0,\"ticks\":\"\"}},\"type\":\"scattercarpet\"}],\"scattergeo\":[{\"marker\":{\"colorbar\":{\"outlinewidth\":0,\"ticks\":\"\"}},\"type\":\"scattergeo\"}],\"scattergl\":[{\"marker\":{\"colorbar\":{\"outlinewidth\":0,\"ticks\":\"\"}},\"type\":\"scattergl\"}],\"scattermapbox\":[{\"marker\":{\"colorbar\":{\"outlinewidth\":0,\"ticks\":\"\"}},\"type\":\"scattermapbox\"}],\"scatterpolar\":[{\"marker\":{\"colorbar\":{\"outlinewidth\":0,\"ticks\":\"\"}},\"type\":\"scatterpolar\"}],\"scatterpolargl\":[{\"marker\":{\"colorbar\":{\"outlinewidth\":0,\"ticks\":\"\"}},\"type\":\"scatterpolargl\"}],\"scatterternary\":[{\"marker\":{\"colorbar\":{\"outlinewidth\":0,\"ticks\":\"\"}},\"type\":\"scatterternary\"}],\"surface\":[{\"colorbar\":{\"outlinewidth\":0,\"ticks\":\"\"},\"colorscale\":[[0.0,\"#0d0887\"],[0.1111111111111111,\"#46039f\"],[0.2222222222222222,\"#7201a8\"],[0.3333333333333333,\"#9c179e\"],[0.4444444444444444,\"#bd3786\"],[0.5555555555555556,\"#d8576b\"],[0.6666666666666666,\"#ed7953\"],[0.7777777777777778,\"#fb9f3a\"],[0.8888888888888888,\"#fdca26\"],[1.0,\"#f0f921\"]],\"type\":\"surface\"}],\"table\":[{\"cells\":{\"fill\":{\"color\":\"#EBF0F8\"},\"line\":{\"color\":\"white\"}},\"header\":{\"fill\":{\"color\":\"#C8D4E3\"},\"line\":{\"color\":\"white\"}},\"type\":\"table\"}]},\"layout\":{\"annotationdefaults\":{\"arrowcolor\":\"#2a3f5f\",\"arrowhead\":0,\"arrowwidth\":1},\"autotypenumbers\":\"strict\",\"coloraxis\":{\"colorbar\":{\"outlinewidth\":0,\"ticks\":\"\"}},\"colorscale\":{\"diverging\":[[0,\"#8e0152\"],[0.1,\"#c51b7d\"],[0.2,\"#de77ae\"],[0.3,\"#f1b6da\"],[0.4,\"#fde0ef\"],[0.5,\"#f7f7f7\"],[0.6,\"#e6f5d0\"],[0.7,\"#b8e186\"],[0.8,\"#7fbc41\"],[0.9,\"#4d9221\"],[1,\"#276419\"]],\"sequential\":[[0.0,\"#0d0887\"],[0.1111111111111111,\"#46039f\"],[0.2222222222222222,\"#7201a8\"],[0.3333333333333333,\"#9c179e\"],[0.4444444444444444,\"#bd3786\"],[0.5555555555555556,\"#d8576b\"],[0.6666666666666666,\"#ed7953\"],[0.7777777777777778,\"#fb9f3a\"],[0.8888888888888888,\"#fdca26\"],[1.0,\"#f0f921\"]],\"sequentialminus\":[[0.0,\"#0d0887\"],[0.1111111111111111,\"#46039f\"],[0.2222222222222222,\"#7201a8\"],[0.3333333333333333,\"#9c179e\"],[0.4444444444444444,\"#bd3786\"],[0.5555555555555556,\"#d8576b\"],[0.6666666666666666,\"#ed7953\"],[0.7777777777777778,\"#fb9f3a\"],[0.8888888888888888,\"#fdca26\"],[1.0,\"#f0f921\"]]},\"colorway\":[\"#636efa\",\"#EF553B\",\"#00cc96\",\"#ab63fa\",\"#FFA15A\",\"#19d3f3\",\"#FF6692\",\"#B6E880\",\"#FF97FF\",\"#FECB52\"],\"font\":{\"color\":\"#2a3f5f\"},\"geo\":{\"bgcolor\":\"white\",\"lakecolor\":\"white\",\"landcolor\":\"#E5ECF6\",\"showlakes\":true,\"showland\":true,\"subunitcolor\":\"white\"},\"hoverlabel\":{\"align\":\"left\"},\"hovermode\":\"closest\",\"mapbox\":{\"style\":\"light\"},\"paper_bgcolor\":\"white\",\"plot_bgcolor\":\"#E5ECF6\",\"polar\":{\"angularaxis\":{\"gridcolor\":\"white\",\"linecolor\":\"white\",\"ticks\":\"\"},\"bgcolor\":\"#E5ECF6\",\"radialaxis\":{\"gridcolor\":\"white\",\"linecolor\":\"white\",\"ticks\":\"\"}},\"scene\":{\"xaxis\":{\"backgroundcolor\":\"#E5ECF6\",\"gridcolor\":\"white\",\"gridwidth\":2,\"linecolor\":\"white\",\"showbackground\":true,\"ticks\":\"\",\"zerolinecolor\":\"white\"},\"yaxis\":{\"backgroundcolor\":\"#E5ECF6\",\"gridcolor\":\"white\",\"gridwidth\":2,\"linecolor\":\"white\",\"showbackground\":true,\"ticks\":\"\",\"zerolinecolor\":\"white\"},\"zaxis\":{\"backgroundcolor\":\"#E5ECF6\",\"gridcolor\":\"white\",\"gridwidth\":2,\"linecolor\":\"white\",\"showbackground\":true,\"ticks\":\"\",\"zerolinecolor\":\"white\"}},\"shapedefaults\":{\"line\":{\"color\":\"#2a3f5f\"}},\"ternary\":{\"aaxis\":{\"gridcolor\":\"white\",\"linecolor\":\"white\",\"ticks\":\"\"},\"baxis\":{\"gridcolor\":\"white\",\"linecolor\":\"white\",\"ticks\":\"\"},\"bgcolor\":\"#E5ECF6\",\"caxis\":{\"gridcolor\":\"white\",\"linecolor\":\"white\",\"ticks\":\"\"}},\"title\":{\"x\":0.05},\"xaxis\":{\"automargin\":true,\"gridcolor\":\"white\",\"linecolor\":\"white\",\"ticks\":\"\",\"title\":{\"standoff\":15},\"zerolinecolor\":\"white\",\"zerolinewidth\":2},\"yaxis\":{\"automargin\":true,\"gridcolor\":\"white\",\"linecolor\":\"white\",\"ticks\":\"\",\"title\":{\"standoff\":15},\"zerolinecolor\":\"white\",\"zerolinewidth\":2}}},\"xaxis\":{\"anchor\":\"y\",\"domain\":[0.0,1.0],\"title\":{\"text\":\"x\"}},\"yaxis\":{\"anchor\":\"x\",\"domain\":[0.0,1.0],\"title\":{\"text\":\"y\"}},\"coloraxis\":{\"colorbar\":{\"title\":{\"text\":\"hdbscan_labels\"}},\"colorscale\":[[0.0,\"#0d0887\"],[0.1111111111111111,\"#46039f\"],[0.2222222222222222,\"#7201a8\"],[0.3333333333333333,\"#9c179e\"],[0.4444444444444444,\"#bd3786\"],[0.5555555555555556,\"#d8576b\"],[0.6666666666666666,\"#ed7953\"],[0.7777777777777778,\"#fb9f3a\"],[0.8888888888888888,\"#fdca26\"],[1.0,\"#f0f921\"]]},\"legend\":{\"tracegroupgap\":0},\"title\":{\"text\":\"SBERT - UMAP - HDBSCAN\"},\"height\":800,\"width\":1000},                        {\"responsive\": true}                    ).then(function(){\n",
              "                            \n",
              "var gd = document.getElementById('78de9f77-ef31-4dfb-bc21-05bf49f74fad');\n",
              "var x = new MutationObserver(function (mutations, observer) {{\n",
              "        var display = window.getComputedStyle(gd).display;\n",
              "        if (!display || display === 'none') {{\n",
              "            console.log([gd, 'removed!']);\n",
              "            Plotly.purge(gd);\n",
              "            observer.disconnect();\n",
              "        }}\n",
              "}});\n",
              "\n",
              "// Listen for the removal of the full notebook cells\n",
              "var notebookContainer = gd.closest('#notebook-container');\n",
              "if (notebookContainer) {{\n",
              "    x.observe(notebookContainer, {childList: true});\n",
              "}}\n",
              "\n",
              "// Listen for the clearing of the current output cell\n",
              "var outputEl = gd.closest('.output');\n",
              "if (outputEl) {{\n",
              "    x.observe(outputEl, {childList: true});\n",
              "}}\n",
              "\n",
              "                        })                };                            </script>        </div>\n",
              "</body>\n",
              "</html>"
            ]
          },
          "metadata": {}
        }
      ]
    },
    {
      "cell_type": "code",
      "source": [
        "# Visualize FastText Clustering result with higest quality\n",
        "fig = px.scatter(ft_umap_df, x=\"x\", y=\"y\", color=\"hdbscan_labels\", title='FastText - UMAP - HDBSCAN',\n",
        "                 width=1000,height =800)\n",
        "fig.show()"
      ],
      "metadata": {
        "colab": {
          "base_uri": "https://localhost:8080/",
          "height": 817
        },
        "id": "vtEFJhv7Ugff",
        "outputId": "fd35a978-63d0-40c6-b5e5-dfee8d844477"
      },
      "execution_count": 466,
      "outputs": [
        {
          "output_type": "display_data",
          "data": {
            "text/html": [
              "<html>\n",
              "<head><meta charset=\"utf-8\" /></head>\n",
              "<body>\n",
              "    <div>            <script src=\"https://cdnjs.cloudflare.com/ajax/libs/mathjax/2.7.5/MathJax.js?config=TeX-AMS-MML_SVG\"></script><script type=\"text/javascript\">if (window.MathJax) {MathJax.Hub.Config({SVG: {font: \"STIX-Web\"}});}</script>                <script type=\"text/javascript\">window.PlotlyConfig = {MathJaxConfig: 'local'};</script>\n",
              "        <script src=\"https://cdn.plot.ly/plotly-2.8.3.min.js\"></script>                <div id=\"4f1fd021-ed96-43c8-8b42-c8be4ecd9b22\" class=\"plotly-graph-div\" style=\"height:800px; width:1000px;\"></div>            <script type=\"text/javascript\">                                    window.PLOTLYENV=window.PLOTLYENV || {};                                    if (document.getElementById(\"4f1fd021-ed96-43c8-8b42-c8be4ecd9b22\")) {                    Plotly.newPlot(                        \"4f1fd021-ed96-43c8-8b42-c8be4ecd9b22\",                        [{\"hovertemplate\":\"x=%{x}<br>y=%{y}<br>hdbscan_labels=%{marker.color}<extra></extra>\",\"legendgroup\":\"\",\"marker\":{\"color\":[5,5,4,1,5,5,5,3,4,0,2,2,5,5,5,5,5,5,3,5,5,5,0,4,5,5,0,5,4,3,5,5,3,1,2,1,5,5,5,3,5,2,0,3,5,5,5,0,5,5,3,5,5,3,5,5,5,5,5,5,0,5,4,5,5,5,5,5,5,7,7,5,4,2,5,5,0,4,5,5,3,5,5,1,2,4,6,5,4,5,5,5,5,5,7,5,5,5,4,0,5,5,5,5,5,4,5,5,5,7,0,5,2,5,5,3,6,4,0,5,5,0,5,5,5,5,4,5,4,5,5,5,0,5,5,5,1,5,5,1,1,5,4,1,5,5,5,6,1,3,5,5,7,5,7,5,0,5,5,5,2,5,5,6,5,1,4,5,5,5,5,5,5,4,5,5,4,5,6,5,5,5,7,5,5,5,5,5,5,5,3,4,7,4,5,5,3,5,4,5,1,4,7,5,5,5,3,5,6,7,6,5,4,5,4,7,6,5,5,5,6,4,1,3,5,7,5,5,5,5,7,5,4,5,5,5,5,6,4,2,5,2,5,5,5,6,4,4,5,7,5,5,5,1,5,5,3,2,5,5,5,4,5,4,6,5,5,4,7,5,5,5,5,6,5,5,6,6,4,1,5,4,5,1,5,5,5,5,5,4,5,6,4,5,5,6,5,5,5,2,5,5,5,5,4,5,5,1],\"coloraxis\":\"coloraxis\",\"symbol\":\"circle\"},\"mode\":\"markers\",\"name\":\"\",\"orientation\":\"v\",\"showlegend\":false,\"x\":[10.768247604370117,12.194450378417969,10.018807411193848,15.31417179107666,13.617815971374512,14.07714557647705,14.251896858215332,10.896608352661133,9.882120132446289,5.5753350257873535,9.33901596069336,9.46060562133789,14.496448516845703,13.547398567199707,11.373469352722168,12.429397583007812,11.922591209411621,14.49536418914795,11.13538646697998,13.711016654968262,11.105380058288574,12.67062759399414,5.87962532043457,9.395448684692383,10.744091987609863,12.730988502502441,5.546573162078857,14.166864395141602,9.215028762817383,11.105266571044922,11.299633026123047,12.89695930480957,11.421004295349121,15.697748184204102,9.326615333557129,15.573424339294434,14.203425407409668,11.033263206481934,11.337117195129395,11.405357360839844,12.532929420471191,9.417394638061523,5.859236240386963,11.368134498596191,12.780531883239746,12.698720932006836,12.887141227722168,5.868176460266113,11.25875186920166,11.028079986572266,11.388045310974121,12.462956428527832,13.400328636169434,11.486712455749512,11.197749137878418,12.030484199523926,14.05768871307373,11.335180282592773,12.071273803710938,11.619965553283691,5.567968845367432,14.355634689331055,9.398032188415527,14.194636344909668,13.70858383178711,13.68388557434082,12.183679580688477,13.06255054473877,13.066929817199707,11.228899002075195,10.901491165161133,13.913912773132324,9.20668888092041,10.11496353149414,12.052326202392578,11.13082504272461,5.91437292098999,10.284716606140137,10.813362121582031,10.85611343383789,11.82113265991211,10.84107494354248,13.823251724243164,15.45992374420166,9.269892692565918,9.218024253845215,12.013257026672363,12.79538631439209,9.755915641784668,11.748677253723145,10.435245513916016,11.621004104614258,13.18171215057373,11.445219039916992,11.115565299987793,10.751884460449219,11.786896705627441,13.71762752532959,10.290212631225586,5.831754684448242,13.638195991516113,12.282501220703125,10.948776245117188,11.39372444152832,10.766221046447754,10.002612113952637,12.273067474365234,11.669397354125977,13.316983222961426,10.628010749816895,5.810239315032959,14.146738052368164,9.348198890686035,13.329680442810059,12.972890853881836,11.35003662109375,12.250879287719727,10.238656997680664,5.587134838104248,13.828611373901367,10.585234642028809,5.856317043304443,11.187911987304688,11.916735649108887,11.593231201171875,13.750625610351562,10.485638618469238,11.378077507019043,10.313030242919922,13.82495403289795,13.563277244567871,12.448662757873535,5.6568403244018555,13.592360496520996,13.46545696258545,13.277754783630371,15.740660667419434,12.277909278869629,14.020179748535156,15.64193344116211,15.579266548156738,14.210851669311523,9.86302661895752,15.73196029663086,13.602813720703125,11.988476753234863,10.380420684814453,12.658899307250977,15.441816329956055,11.422781944274902,12.157136917114258,14.241110801696777,11.140387535095215,13.974016189575195,11.218992233276367,12.012591361999512,5.887016773223877,13.994649887084961,10.942187309265137,11.651437759399414,9.222505569458008,13.021965980529785,11.262407302856445,11.987980842590332,12.653528213500977,15.714884757995605,9.79509162902832,11.091314315795898,13.158577919006348,10.784451484680176,13.18799114227295,12.773865699768066,13.699186325073242,9.95465087890625,12.046125411987305,13.97134780883789,10.027440071105957,12.428118705749512,12.020596504211426,13.97091293334961,14.331038475036621,13.998334884643555,11.07185173034668,12.037176132202148,13.9776611328125,11.396591186523438,11.94166374206543,13.64501667022705,10.644932746887207,11.174503326416016,11.488041877746582,9.519976615905762,10.546971321105957,10.111313819885254,12.514025688171387,14.396260261535645,11.454160690307617,10.819201469421387,9.165249824523926,13.377345085144043,15.526914596557617,10.288905143737793,11.074665069580078,13.294520378112793,13.606897354125977,13.086402893066406,11.4795503616333,10.878232955932617,12.975330352783203,10.682963371276855,12.301962852478027,10.992326736450195,9.907809257507324,13.648958206176758,9.8147611618042,10.976212501525879,11.689837455749512,11.77666187286377,10.885870933532715,14.192392349243164,12.572027206420898,9.812116622924805,15.572617530822754,11.358582496643066,10.936758041381836,10.630520820617676,10.72573184967041,11.792196273803711,12.684619903564453,13.192938804626465,10.642101287841797,11.993064880371094,9.527864456176758,10.81588077545166,13.6932373046875,10.586921691894531,12.713003158569336,12.020873069763184,10.146129608154297,9.26059341430664,11.284228324890137,9.574501991271973,14.471907615661621,10.720702171325684,11.738058090209961,11.730012893676758,9.448484420776367,9.442281723022461,12.565163612365723,10.500470161437988,12.201460838317871,10.981078147888184,11.892096519470215,15.33804988861084,14.208467483520508,12.147236824035645,11.548515319824219,9.60561752319336,10.916866302490234,10.958128929138184,11.188166618347168,9.992472648620605,12.029539108276367,9.84006404876709,12.335453033447266,13.944734573364258,13.732511520385742,9.891326904296875,10.574117660522461,10.970917701721191,11.719437599182129,14.084318161010742,10.912456512451172,12.111924171447754,12.021675109863281,14.32540512084961,12.511068344116211,12.339311599731445,9.930990219116211,15.59160041809082,10.738240242004395,10.114238739013672,11.835952758789062,15.104780197143555,11.628326416015625,12.49349594116211,11.281071662902832,11.838909149169922,11.897229194641113,9.62966251373291,13.87228012084961,12.25546646118164,9.944637298583984,14.250226974487305,11.393397331237793,12.17932415008545,11.073277473449707,13.948898315429688,12.504859924316406,9.915558815002441,12.433390617370605,14.126505851745605,11.434427261352539,12.77706527709961,9.429055213928223,13.239130020141602,11.806157112121582,15.576688766479492],\"xaxis\":\"x\",\"y\":[6.134205341339111,7.632157325744629,5.8472490310668945,5.952443599700928,7.218732833862305,7.039175510406494,8.861932754516602,10.663596153259277,6.305190086364746,11.148086547851562,10.024101257324219,10.051700592041016,7.196413993835449,6.825538635253906,7.2531208992004395,6.0624613761901855,7.974003791809082,7.064131736755371,10.723668098449707,7.029301643371582,5.854015350341797,7.006474018096924,11.417332649230957,6.526899814605713,7.659300327301025,7.089488983154297,11.116766929626465,7.893010139465332,6.1721601486206055,10.77031135559082,8.018207550048828,6.411539077758789,10.841745376586914,5.9441351890563965,10.072267532348633,5.892120361328125,8.602334022521973,5.369866847991943,6.749326705932617,10.80552864074707,5.737307071685791,10.140790939331055,11.388916969299316,10.708938598632812,7.602926254272461,6.7309112548828125,5.933193206787109,11.44734001159668,6.731245994567871,7.952536106109619,10.646462440490723,6.760687828063965,7.190589904785156,10.434253692626953,7.302528381347656,6.193389892578125,8.101694107055664,7.2888054847717285,7.856359481811523,7.899834156036377,11.119845390319824,7.263131618499756,5.217158794403076,9.0361328125,7.103219985961914,8.388846397399902,6.070374011993408,7.218238830566406,7.286301612854004,9.411639213562012,8.857672691345215,6.4032816886901855,6.136268138885498,10.23965835571289,6.224957466125488,5.945076942443848,11.360342025756836,5.92128324508667,6.656730651855469,8.16257095336914,9.862862586975098,8.188725471496582,7.409562587738037,5.701594352722168,10.01496696472168,6.169094562530518,9.237422943115234,6.931551933288574,6.531472682952881,6.481948375701904,6.9178667068481445,7.998983860015869,6.922673225402832,8.056475639343262,8.919828414916992,6.6770243644714355,5.882359504699707,7.944100379943848,5.918159008026123,11.364877700805664,7.7690935134887695,7.4974517822265625,6.213181018829346,6.049522876739502,7.918739318847656,5.950361251831055,5.946373462677002,6.563292503356934,7.337380886077881,9.51533317565918,11.34342098236084,9.028947830200195,9.927645683288574,7.141036510467529,6.4939727783203125,10.716614723205566,9.137587547302246,5.141201019287109,11.153114318847656,8.81826114654541,7.674371242523193,11.451730728149414,6.985831260681152,5.295166492462158,7.961462020874023,7.334197521209717,5.2333984375,6.035844326019287,5.167040824890137,7.154823303222656,7.264977931976318,7.335020542144775,11.207043647766113,8.431649208068848,6.785081386566162,8.239575386047363,5.987236499786377,6.7137627601623535,6.966480731964111,5.418259620666504,5.486756801605225,9.070953369140625,5.386228084564209,5.984161376953125,7.721005439758301,5.217090129852295,6.799037456512451,9.180444717407227,5.690696716308594,10.863038063049316,7.151539325714111,8.567633628845215,9.26021671295166,6.927841663360596,8.943077087402344,6.548679351806641,11.430862426757812,7.47205924987793,7.891952037811279,8.063737869262695,9.974781036376953,7.325040340423584,8.008743286132812,9.32123851776123,6.061169624328613,5.962675094604492,5.683897018432617,5.300433158874512,8.132671356201172,6.715301990509033,6.852001190185547,7.630222320556641,6.599876403808594,5.475471019744873,7.598443984985352,7.4798264503479,6.387919902801514,7.321665287017822,9.357379913330078,6.9492974281311035,7.473236560821533,7.949617862701416,9.341276168823242,6.28113317489624,6.449357509613037,8.300278663635254,5.250687599182129,9.090085983276367,6.991311550140381,6.125175476074219,10.77997875213623,6.533084392547607,9.592911720275879,5.074180603027344,7.4406280517578125,7.1615471839904785,10.411726951599121,6.018015384674072,6.061406135559082,7.199569225311279,5.572822570800781,6.2843523025512695,9.348432540893555,7.99307918548584,9.054490089416504,6.6841535568237305,10.806916236877441,6.590303897857666,8.81795883178711,9.570910453796387,9.369147300720215,7.255619049072266,5.855935573577881,6.356053829193115,5.601879596710205,8.906557083129883,9.188017845153809,7.825831890106201,6.684357643127441,8.926920890808105,9.284993171691895,6.510875225067139,5.4880781173706055,10.75180435180664,5.495093822479248,9.472867012023926,8.100595474243164,7.25619649887085,6.612668514251709,6.728352069854736,9.514466285705566,7.882347106933594,5.278177261352539,7.965938091278076,8.448762893676758,7.1555705070495605,7.1506195068359375,9.329933166503906,5.106229305267334,10.023226737976074,8.046070098876953,10.09624195098877,7.083168983459473,7.663485050201416,6.8418378829956055,8.939682006835938,5.238267421722412,5.251913070678711,8.110939979553223,9.636591911315918,7.694248199462891,7.165765285491943,5.24227237701416,5.918285369873047,8.489517211914062,7.5284647941589355,10.33232593536377,9.911049842834473,6.879068851470947,5.511112213134766,5.86097526550293,6.383216381072998,5.3826704025268555,5.186667442321777,9.407305717468262,6.325511932373047,8.671987533569336,6.244853496551514,9.455928802490234,5.460153102874756,6.46178674697876,7.117898464202881,8.180906295776367,9.24316120147705,7.896125316619873,7.250471115112305,9.242451667785645,9.411003112792969,6.186318397521973,5.452632904052734,8.070633888244629,5.084905624389648,5.228916645050049,6.12880802154541,7.946171760559082,8.113203048706055,7.3683180809021,7.030871868133545,5.293336868286133,6.622933387756348,6.361313819885254,9.076961517333984,5.455084323883057,9.102739334106445,6.474575996398926,9.208385467529297,5.29024076461792,7.507071495056152,7.1462554931640625,10.193605422973633,5.55773401260376,9.0000581741333,6.557679176330566,7.602625846862793,5.24352502822876,8.071711540222168,5.305087566375732,5.496197700500488],\"yaxis\":\"y\",\"type\":\"scatter\"}],                        {\"template\":{\"data\":{\"bar\":[{\"error_x\":{\"color\":\"#2a3f5f\"},\"error_y\":{\"color\":\"#2a3f5f\"},\"marker\":{\"line\":{\"color\":\"#E5ECF6\",\"width\":0.5},\"pattern\":{\"fillmode\":\"overlay\",\"size\":10,\"solidity\":0.2}},\"type\":\"bar\"}],\"barpolar\":[{\"marker\":{\"line\":{\"color\":\"#E5ECF6\",\"width\":0.5},\"pattern\":{\"fillmode\":\"overlay\",\"size\":10,\"solidity\":0.2}},\"type\":\"barpolar\"}],\"carpet\":[{\"aaxis\":{\"endlinecolor\":\"#2a3f5f\",\"gridcolor\":\"white\",\"linecolor\":\"white\",\"minorgridcolor\":\"white\",\"startlinecolor\":\"#2a3f5f\"},\"baxis\":{\"endlinecolor\":\"#2a3f5f\",\"gridcolor\":\"white\",\"linecolor\":\"white\",\"minorgridcolor\":\"white\",\"startlinecolor\":\"#2a3f5f\"},\"type\":\"carpet\"}],\"choropleth\":[{\"colorbar\":{\"outlinewidth\":0,\"ticks\":\"\"},\"type\":\"choropleth\"}],\"contour\":[{\"colorbar\":{\"outlinewidth\":0,\"ticks\":\"\"},\"colorscale\":[[0.0,\"#0d0887\"],[0.1111111111111111,\"#46039f\"],[0.2222222222222222,\"#7201a8\"],[0.3333333333333333,\"#9c179e\"],[0.4444444444444444,\"#bd3786\"],[0.5555555555555556,\"#d8576b\"],[0.6666666666666666,\"#ed7953\"],[0.7777777777777778,\"#fb9f3a\"],[0.8888888888888888,\"#fdca26\"],[1.0,\"#f0f921\"]],\"type\":\"contour\"}],\"contourcarpet\":[{\"colorbar\":{\"outlinewidth\":0,\"ticks\":\"\"},\"type\":\"contourcarpet\"}],\"heatmap\":[{\"colorbar\":{\"outlinewidth\":0,\"ticks\":\"\"},\"colorscale\":[[0.0,\"#0d0887\"],[0.1111111111111111,\"#46039f\"],[0.2222222222222222,\"#7201a8\"],[0.3333333333333333,\"#9c179e\"],[0.4444444444444444,\"#bd3786\"],[0.5555555555555556,\"#d8576b\"],[0.6666666666666666,\"#ed7953\"],[0.7777777777777778,\"#fb9f3a\"],[0.8888888888888888,\"#fdca26\"],[1.0,\"#f0f921\"]],\"type\":\"heatmap\"}],\"heatmapgl\":[{\"colorbar\":{\"outlinewidth\":0,\"ticks\":\"\"},\"colorscale\":[[0.0,\"#0d0887\"],[0.1111111111111111,\"#46039f\"],[0.2222222222222222,\"#7201a8\"],[0.3333333333333333,\"#9c179e\"],[0.4444444444444444,\"#bd3786\"],[0.5555555555555556,\"#d8576b\"],[0.6666666666666666,\"#ed7953\"],[0.7777777777777778,\"#fb9f3a\"],[0.8888888888888888,\"#fdca26\"],[1.0,\"#f0f921\"]],\"type\":\"heatmapgl\"}],\"histogram\":[{\"marker\":{\"pattern\":{\"fillmode\":\"overlay\",\"size\":10,\"solidity\":0.2}},\"type\":\"histogram\"}],\"histogram2d\":[{\"colorbar\":{\"outlinewidth\":0,\"ticks\":\"\"},\"colorscale\":[[0.0,\"#0d0887\"],[0.1111111111111111,\"#46039f\"],[0.2222222222222222,\"#7201a8\"],[0.3333333333333333,\"#9c179e\"],[0.4444444444444444,\"#bd3786\"],[0.5555555555555556,\"#d8576b\"],[0.6666666666666666,\"#ed7953\"],[0.7777777777777778,\"#fb9f3a\"],[0.8888888888888888,\"#fdca26\"],[1.0,\"#f0f921\"]],\"type\":\"histogram2d\"}],\"histogram2dcontour\":[{\"colorbar\":{\"outlinewidth\":0,\"ticks\":\"\"},\"colorscale\":[[0.0,\"#0d0887\"],[0.1111111111111111,\"#46039f\"],[0.2222222222222222,\"#7201a8\"],[0.3333333333333333,\"#9c179e\"],[0.4444444444444444,\"#bd3786\"],[0.5555555555555556,\"#d8576b\"],[0.6666666666666666,\"#ed7953\"],[0.7777777777777778,\"#fb9f3a\"],[0.8888888888888888,\"#fdca26\"],[1.0,\"#f0f921\"]],\"type\":\"histogram2dcontour\"}],\"mesh3d\":[{\"colorbar\":{\"outlinewidth\":0,\"ticks\":\"\"},\"type\":\"mesh3d\"}],\"parcoords\":[{\"line\":{\"colorbar\":{\"outlinewidth\":0,\"ticks\":\"\"}},\"type\":\"parcoords\"}],\"pie\":[{\"automargin\":true,\"type\":\"pie\"}],\"scatter\":[{\"marker\":{\"colorbar\":{\"outlinewidth\":0,\"ticks\":\"\"}},\"type\":\"scatter\"}],\"scatter3d\":[{\"line\":{\"colorbar\":{\"outlinewidth\":0,\"ticks\":\"\"}},\"marker\":{\"colorbar\":{\"outlinewidth\":0,\"ticks\":\"\"}},\"type\":\"scatter3d\"}],\"scattercarpet\":[{\"marker\":{\"colorbar\":{\"outlinewidth\":0,\"ticks\":\"\"}},\"type\":\"scattercarpet\"}],\"scattergeo\":[{\"marker\":{\"colorbar\":{\"outlinewidth\":0,\"ticks\":\"\"}},\"type\":\"scattergeo\"}],\"scattergl\":[{\"marker\":{\"colorbar\":{\"outlinewidth\":0,\"ticks\":\"\"}},\"type\":\"scattergl\"}],\"scattermapbox\":[{\"marker\":{\"colorbar\":{\"outlinewidth\":0,\"ticks\":\"\"}},\"type\":\"scattermapbox\"}],\"scatterpolar\":[{\"marker\":{\"colorbar\":{\"outlinewidth\":0,\"ticks\":\"\"}},\"type\":\"scatterpolar\"}],\"scatterpolargl\":[{\"marker\":{\"colorbar\":{\"outlinewidth\":0,\"ticks\":\"\"}},\"type\":\"scatterpolargl\"}],\"scatterternary\":[{\"marker\":{\"colorbar\":{\"outlinewidth\":0,\"ticks\":\"\"}},\"type\":\"scatterternary\"}],\"surface\":[{\"colorbar\":{\"outlinewidth\":0,\"ticks\":\"\"},\"colorscale\":[[0.0,\"#0d0887\"],[0.1111111111111111,\"#46039f\"],[0.2222222222222222,\"#7201a8\"],[0.3333333333333333,\"#9c179e\"],[0.4444444444444444,\"#bd3786\"],[0.5555555555555556,\"#d8576b\"],[0.6666666666666666,\"#ed7953\"],[0.7777777777777778,\"#fb9f3a\"],[0.8888888888888888,\"#fdca26\"],[1.0,\"#f0f921\"]],\"type\":\"surface\"}],\"table\":[{\"cells\":{\"fill\":{\"color\":\"#EBF0F8\"},\"line\":{\"color\":\"white\"}},\"header\":{\"fill\":{\"color\":\"#C8D4E3\"},\"line\":{\"color\":\"white\"}},\"type\":\"table\"}]},\"layout\":{\"annotationdefaults\":{\"arrowcolor\":\"#2a3f5f\",\"arrowhead\":0,\"arrowwidth\":1},\"autotypenumbers\":\"strict\",\"coloraxis\":{\"colorbar\":{\"outlinewidth\":0,\"ticks\":\"\"}},\"colorscale\":{\"diverging\":[[0,\"#8e0152\"],[0.1,\"#c51b7d\"],[0.2,\"#de77ae\"],[0.3,\"#f1b6da\"],[0.4,\"#fde0ef\"],[0.5,\"#f7f7f7\"],[0.6,\"#e6f5d0\"],[0.7,\"#b8e186\"],[0.8,\"#7fbc41\"],[0.9,\"#4d9221\"],[1,\"#276419\"]],\"sequential\":[[0.0,\"#0d0887\"],[0.1111111111111111,\"#46039f\"],[0.2222222222222222,\"#7201a8\"],[0.3333333333333333,\"#9c179e\"],[0.4444444444444444,\"#bd3786\"],[0.5555555555555556,\"#d8576b\"],[0.6666666666666666,\"#ed7953\"],[0.7777777777777778,\"#fb9f3a\"],[0.8888888888888888,\"#fdca26\"],[1.0,\"#f0f921\"]],\"sequentialminus\":[[0.0,\"#0d0887\"],[0.1111111111111111,\"#46039f\"],[0.2222222222222222,\"#7201a8\"],[0.3333333333333333,\"#9c179e\"],[0.4444444444444444,\"#bd3786\"],[0.5555555555555556,\"#d8576b\"],[0.6666666666666666,\"#ed7953\"],[0.7777777777777778,\"#fb9f3a\"],[0.8888888888888888,\"#fdca26\"],[1.0,\"#f0f921\"]]},\"colorway\":[\"#636efa\",\"#EF553B\",\"#00cc96\",\"#ab63fa\",\"#FFA15A\",\"#19d3f3\",\"#FF6692\",\"#B6E880\",\"#FF97FF\",\"#FECB52\"],\"font\":{\"color\":\"#2a3f5f\"},\"geo\":{\"bgcolor\":\"white\",\"lakecolor\":\"white\",\"landcolor\":\"#E5ECF6\",\"showlakes\":true,\"showland\":true,\"subunitcolor\":\"white\"},\"hoverlabel\":{\"align\":\"left\"},\"hovermode\":\"closest\",\"mapbox\":{\"style\":\"light\"},\"paper_bgcolor\":\"white\",\"plot_bgcolor\":\"#E5ECF6\",\"polar\":{\"angularaxis\":{\"gridcolor\":\"white\",\"linecolor\":\"white\",\"ticks\":\"\"},\"bgcolor\":\"#E5ECF6\",\"radialaxis\":{\"gridcolor\":\"white\",\"linecolor\":\"white\",\"ticks\":\"\"}},\"scene\":{\"xaxis\":{\"backgroundcolor\":\"#E5ECF6\",\"gridcolor\":\"white\",\"gridwidth\":2,\"linecolor\":\"white\",\"showbackground\":true,\"ticks\":\"\",\"zerolinecolor\":\"white\"},\"yaxis\":{\"backgroundcolor\":\"#E5ECF6\",\"gridcolor\":\"white\",\"gridwidth\":2,\"linecolor\":\"white\",\"showbackground\":true,\"ticks\":\"\",\"zerolinecolor\":\"white\"},\"zaxis\":{\"backgroundcolor\":\"#E5ECF6\",\"gridcolor\":\"white\",\"gridwidth\":2,\"linecolor\":\"white\",\"showbackground\":true,\"ticks\":\"\",\"zerolinecolor\":\"white\"}},\"shapedefaults\":{\"line\":{\"color\":\"#2a3f5f\"}},\"ternary\":{\"aaxis\":{\"gridcolor\":\"white\",\"linecolor\":\"white\",\"ticks\":\"\"},\"baxis\":{\"gridcolor\":\"white\",\"linecolor\":\"white\",\"ticks\":\"\"},\"bgcolor\":\"#E5ECF6\",\"caxis\":{\"gridcolor\":\"white\",\"linecolor\":\"white\",\"ticks\":\"\"}},\"title\":{\"x\":0.05},\"xaxis\":{\"automargin\":true,\"gridcolor\":\"white\",\"linecolor\":\"white\",\"ticks\":\"\",\"title\":{\"standoff\":15},\"zerolinecolor\":\"white\",\"zerolinewidth\":2},\"yaxis\":{\"automargin\":true,\"gridcolor\":\"white\",\"linecolor\":\"white\",\"ticks\":\"\",\"title\":{\"standoff\":15},\"zerolinecolor\":\"white\",\"zerolinewidth\":2}}},\"xaxis\":{\"anchor\":\"y\",\"domain\":[0.0,1.0],\"title\":{\"text\":\"x\"}},\"yaxis\":{\"anchor\":\"x\",\"domain\":[0.0,1.0],\"title\":{\"text\":\"y\"}},\"coloraxis\":{\"colorbar\":{\"title\":{\"text\":\"hdbscan_labels\"}},\"colorscale\":[[0.0,\"#0d0887\"],[0.1111111111111111,\"#46039f\"],[0.2222222222222222,\"#7201a8\"],[0.3333333333333333,\"#9c179e\"],[0.4444444444444444,\"#bd3786\"],[0.5555555555555556,\"#d8576b\"],[0.6666666666666666,\"#ed7953\"],[0.7777777777777778,\"#fb9f3a\"],[0.8888888888888888,\"#fdca26\"],[1.0,\"#f0f921\"]]},\"legend\":{\"tracegroupgap\":0},\"title\":{\"text\":\"FastText-UMAP-HDBSCAN\"},\"height\":800,\"width\":1000},                        {\"responsive\": true}                    ).then(function(){\n",
              "                            \n",
              "var gd = document.getElementById('4f1fd021-ed96-43c8-8b42-c8be4ecd9b22');\n",
              "var x = new MutationObserver(function (mutations, observer) {{\n",
              "        var display = window.getComputedStyle(gd).display;\n",
              "        if (!display || display === 'none') {{\n",
              "            console.log([gd, 'removed!']);\n",
              "            Plotly.purge(gd);\n",
              "            observer.disconnect();\n",
              "        }}\n",
              "}});\n",
              "\n",
              "// Listen for the removal of the full notebook cells\n",
              "var notebookContainer = gd.closest('#notebook-container');\n",
              "if (notebookContainer) {{\n",
              "    x.observe(notebookContainer, {childList: true});\n",
              "}}\n",
              "\n",
              "// Listen for the clearing of the current output cell\n",
              "var outputEl = gd.closest('.output');\n",
              "if (outputEl) {{\n",
              "    x.observe(outputEl, {childList: true});\n",
              "}}\n",
              "\n",
              "                        })                };                            </script>        </div>\n",
              "</body>\n",
              "</html>"
            ]
          },
          "metadata": {}
        }
      ]
    },
    {
      "cell_type": "code",
      "source": [
        "# Visualize TF-IDF Clustering result with higest quality\n",
        "fig = px.scatter(tfidf_pca_df, x=\"x\", y=\"y\", color=\"kmeans_labels\", title='TF-IDF - PCA - k-means',\n",
        "                 width=1000,height =800)\n",
        "fig.show()"
      ],
      "metadata": {
        "colab": {
          "base_uri": "https://localhost:8080/",
          "height": 817
        },
        "id": "7OFoizmvUjyQ",
        "outputId": "6b6be907-7225-4840-b507-7008a95b397b"
      },
      "execution_count": 469,
      "outputs": [
        {
          "output_type": "display_data",
          "data": {
            "text/html": [
              "<html>\n",
              "<head><meta charset=\"utf-8\" /></head>\n",
              "<body>\n",
              "    <div>            <script src=\"https://cdnjs.cloudflare.com/ajax/libs/mathjax/2.7.5/MathJax.js?config=TeX-AMS-MML_SVG\"></script><script type=\"text/javascript\">if (window.MathJax) {MathJax.Hub.Config({SVG: {font: \"STIX-Web\"}});}</script>                <script type=\"text/javascript\">window.PlotlyConfig = {MathJaxConfig: 'local'};</script>\n",
              "        <script src=\"https://cdn.plot.ly/plotly-2.8.3.min.js\"></script>                <div id=\"7b591859-921d-41fc-90c9-a405e2205a98\" class=\"plotly-graph-div\" style=\"height:800px; width:1000px;\"></div>            <script type=\"text/javascript\">                                    window.PLOTLYENV=window.PLOTLYENV || {};                                    if (document.getElementById(\"7b591859-921d-41fc-90c9-a405e2205a98\")) {                    Plotly.newPlot(                        \"7b591859-921d-41fc-90c9-a405e2205a98\",                        [{\"hovertemplate\":\"x=%{x}<br>y=%{y}<br>kmeans_labels=%{marker.color}<extra></extra>\",\"legendgroup\":\"\",\"marker\":{\"color\":[6,0,4,0,1,6,1,3,4,2,6,3,3,3,0,6,0,3,5,6,0,1,2,2,4,3,2,1,2,5,3,0,5,0,3,0,1,4,0,5,6,3,2,5,0,6,6,6,4,0,5,6,1,5,3,6,1,0,0,0,2,6,0,1,3,1,6,6,3,5,0,0,2,0,3,4,2,4,0,4,1,0,1,0,3,4,3,3,4,6,4,3,1,0,0,6,4,1,4,2,1,0,6,0,4,4,6,3,3,0,6,1,3,3,0,5,3,4,2,3,0,2,4,4,0,0,0,0,4,0,6,0,2,1,3,0,0,0,0,0,0,1,4,0,0,0,4,1,0,5,0,3,0,3,0,0,2,0,3,0,0,4,0,0,6,0,4,0,4,4,6,3,0,0,0,0,4,0,0,4,1,3,0,0,0,0,0,3,4,0,1,2,0,4,0,0,0,0,2,0,0,0,0,3,0,0,5,0,3,0,3,0,4,0,4,0,0,0,0,3,3,0,0,5,0,0,0,0,0,0,0,0,4,0,1,4,4,0,4,0,0,0,0,4,4,0,0,4,0,0,0,0,0,0,0,0,0,0,4,0,0,4,0,4,0,0,5,4,0,0,0,3,0,0,0,0,0,0,4,0,0,4,0,0,0,0,0,0,0,4,0,0,4,3,0,0,0,0,0,0,0,3,0,0,4,0,0,0],\"coloraxis\":\"coloraxis\",\"symbol\":\"circle\"},\"mode\":\"markers\",\"name\":\"\",\"orientation\":\"v\",\"showlegend\":false,\"x\":[0.05507101164699972,-0.10147249479926011,-0.13043921422199056,-0.12809365104687773,0.3143781841833096,0.2867913718932264,0.3456684563472418,0.11787570153120394,-0.12200776118454025,0.02753514514678096,0.1186196109468285,0.09738208221465314,0.10468031452699766,0.16692119507362196,-0.07676518653179298,0.1860404465155161,-0.06478556033856839,0.05703361417888198,0.3272569917851417,0.2077873057475471,-0.11174646960988184,0.2194473435185551,0.07147244973585688,-0.019554568040929542,-0.10462163527755854,0.10744197291436679,0.023879813718651364,0.32943578012539415,-0.03379667188112718,0.17054073271544765,0.049566267274532276,-0.09489955495586032,0.33054961378287884,-0.05165840427681218,0.17249469225029715,-0.062471634306756764,0.24367447643410625,-0.04970258489934836,-0.10104074136438579,0.36662319256124914,0.111177362650016,0.04320634580714412,0.1081529404216849,0.280724886244294,-0.040962389233349696,0.18941928878789857,0.1835071664376344,0.2027871220072209,-0.050931515710963035,-0.024315912377071928,0.4613736055358954,0.2132616452975514,0.28159237052005853,0.3555854561414566,0.17824020748804228,0.14990011252221938,0.25854036190584545,0.01041553623273981,-0.03685675528783225,-0.06661226513185924,-0.014125344149903744,0.23445935845674523,-0.11386813492193501,0.38047628901576913,0.04372974728167376,0.298806996724514,0.13715052278813664,0.24870154534428798,0.11195383195986551,0.2297380786909002,-0.04619285336962418,-0.09482867926104593,-0.1013700078928035,-0.08114722289729581,0.04496654554728231,-0.028656036066763323,-0.07455869167404358,-0.1529575041418269,-0.08684957337837822,-0.15478738992589125,0.3491054315191379,-0.10498241428669083,0.2625657109078318,-0.10986969066163031,0.07255134014397054,-0.11665310003864376,0.08070978363126664,0.05499540704133853,-0.1087123348604915,0.1912668772751366,-0.10237455400496019,0.09785312135913644,0.2367268067526897,-0.09931044338100868,-0.034832377164743265,0.08647107933340423,-0.032162907475001765,0.33070520496127764,-0.1570689135564925,0.005810090591483453,0.2658057335401705,-0.009800718252121546,0.11587258397849877,-0.11715096597112147,-0.10704659174861546,-0.11114903645589855,0.18347917262781246,0.047346413369634084,0.13918093760482317,-0.035405115945121655,0.23101796912948577,0.3597226290939356,0.05365483290330738,0.18109285082451262,-0.09336745418831646,0.33197336620591034,0.04042159764940197,-0.12839632504141013,0.0048530379997316,0.07322059431913863,-0.03721017878718057,0.1850646222558554,-0.10977553400872123,-0.1004186054209278,-0.07292681180927059,-0.00977207874435005,-0.08049153413876105,-0.14335399034899213,-0.08721106415566751,-0.05717600516398925,0.23565755097756538,-0.12843342082714096,0.012611356561503128,0.33436518178118013,0.14521532462684902,-0.008672701484950031,-0.1012176675362994,-0.05146664600927588,-0.027668735486595156,-0.13959444003814073,-0.15885333783810107,0.3510709039713804,-0.15626044147212176,-0.09612095131180257,-0.11894977656376654,-0.14487747339520496,-0.15289458011108886,0.4314724977801762,-0.1305855750420545,0.17355854384209365,-0.07060442774720756,0.10912008894506742,-0.04492041568345143,0.007731220249189113,-0.08051168598862768,-0.10371130680048113,0.06115221764647249,-0.036231715133626156,0.05091341132747311,-0.10722126003333485,-0.06392022520332687,-0.04474386186172669,-0.08661948606773882,-0.03310109714903736,0.22852974759432676,-0.07735358997745737,-0.14682209679427913,-0.11368987436073341,-0.0445253533098317,-0.13730821095840234,0.1821982037189918,0.15076640639262961,-0.057869896720355356,-0.09212205462060363,-0.05974770647356805,-0.0823375336704943,-0.13548284955522055,-0.12752700903855987,-0.04243357010994616,-0.08976047570748032,0.37230253471971836,0.03685244041370066,-0.07527221119180415,-0.05646664262211591,-0.0920044607555357,-0.10417610250102688,-0.15339819771579366,0.08441558199931629,-0.09066769504522049,-0.02947478640360496,0.23844367507532854,-0.041058528066036035,-0.09958712354714595,-0.1270663970264326,-0.07325801175455608,-0.08666884650692268,-0.05635833361046132,-0.1080487503714011,-0.14121602805968136,-0.047060866779926776,-0.1524928087520072,-0.1459001009529429,-0.06382607533412078,0.05829642650716973,-0.045757764703971825,-0.07018522267727113,0.1920279888691803,-0.0845395791270981,0.025347444970755403,-0.06859704227442719,0.066764268823312,-0.004105236420294093,-0.08029267331330683,-0.10734392179016808,-0.1338822929394882,0.009774062474192049,-0.058402441373466375,-0.1031392906953214,-0.08645640324281982,0.12040938881374379,0.048156098870594556,-0.09190117307072182,-0.1651234455417877,0.19306525058747065,-0.11815481569648004,-0.09960840958526705,-0.15085731070258085,-0.08308806618247991,-0.04091502089281211,-0.124912837243897,-0.03389894349337526,-0.009762022564481283,-0.1986068074055385,-0.06905545200391068,0.36860443294387496,-0.06879895730964393,-0.028260689369138593,-0.046826757387527236,-0.11139570367043922,-0.05686843412579449,-0.07194254765895772,-0.09985722787051031,-0.08865511917195493,-0.124031846904301,-0.09210413915316666,-0.10554187873221402,-0.11398199554749891,-0.13337437570581756,-0.057519810077452986,-0.09926550845197568,-0.09763617584667762,-0.11498877177301658,-0.09894273168198524,-0.10975560109218727,-0.06414867579196885,-0.10478579224044762,-0.09848562238216499,-0.09690635943891322,-0.09531274668989981,-0.13630944023049862,-0.05509652892813635,-0.10432557266168646,-0.09162148716700527,-0.11959872997694085,-0.017245980170976255,-0.1067652597198655,0.29580706479612573,-0.14907166426622748,-0.09985850349884055,-0.12933607381559112,-0.08753465093060847,0.04301036415706934,-0.09985870607208436,-0.014101666415780098,-0.08227964589078866,-0.09766276310464667,-0.04825870869459212,-0.017245980170976255,-0.11735876813524328,-0.15319166505916637,-0.13366529862443083,-0.09347960630409484,-0.1586105072139184,-0.08187653770037648,-0.10275248054648503,-0.08992363192466231,-0.08712843324974062,-0.041646845896759946,-0.13918983220847087,-0.07403502060326707,-0.1080929706767834,0.012220103183814727,-0.1084337877486182,0.1364210754611342,-0.12967200449732402,-0.007931277193796025,-0.1260328412047593,-0.07482383175126726,-0.11314586552528985,-0.11277452977526692,-0.1056691257945892,0.16063386586332914,-0.1205723526543964,-0.10425246005781184,-0.11878827921389926,-0.09022345748864126,-0.15411047213109524,-0.13603155278659043],\"xaxis\":\"x\",\"y\":[0.15344371369489507,-0.07140052120240109,0.20171512246216539,-0.09708374191288316,0.04536476776312698,0.19632668268793077,-0.0664127722848747,-0.019458413522048836,0.164065184781043,0.4714072484757835,0.22304531769105118,0.06481836420847051,0.039050672374843595,0.03370965286572213,-0.06587053027772201,0.21627998052556652,-0.06233357752786962,0.0007937480069525912,-0.17824811095891557,0.12065422529899365,-0.002452920487277762,-0.038155075603669264,0.3320530107879428,0.4486148509615507,0.0068637425012171615,0.020006599806653442,0.5610131850853369,0.037106678449512924,0.2754850325167789,-0.257146557863295,-0.006420198176674325,-0.013603857524639345,-0.272580675472318,-0.09941999327886017,-0.0006472543561017945,-0.11371673482283651,0.035322932651021974,0.066549775304043,-0.0685621161174704,-0.25853100167181015,0.12086935275830202,-0.0003863380903772073,0.44324075371383936,-0.3477556294093594,-0.059270446171165586,0.08143058199069911,0.25934851175681506,0.36032035337197754,0.0642209159452338,-0.09597611227896383,-0.23352395979868204,0.07903040961797492,-0.13162776785282077,-0.16632087159577494,0.004460211128694602,0.16940671752558661,-0.03761706274642247,-0.0855466067787833,-0.057672263159486155,-0.07493372729034153,0.4117844724413366,0.13853507391144965,-0.016279807921973397,-0.05703531160736747,0.0476760925912473,-0.05331849265533411,0.1798285869940287,0.12005588663298986,0.02605773621394553,-0.2776634127207455,-0.09950729673800518,-0.03895973982445803,0.3316300101353547,-0.06258961665411243,0.08432827281180194,0.027609795292414148,0.24946984732821773,0.08576757596464024,-0.0006266384120991584,-0.0070411092902387135,0.03579890410682044,-0.08650595925134369,-0.00579976495911552,-0.07227790486315833,-0.012432740770453395,0.2134375764130045,-0.19124939127899115,-0.050111938499877405,0.11268961172843696,0.15843178040156872,0.08509067273101653,-0.09264870495044981,0.0005874966987039727,-0.053620224606334387,-0.10452595280798864,0.24899489250129986,0.08312251784661659,0.07894511828250803,0.06384452270653719,0.27327708050783933,0.03280625736935841,-0.1132109850912253,0.2685489929300196,-0.015300821669034289,0.0530003018235242,0.05091491902548207,0.2433474303608542,0.012078970971081973,-0.03598100725858684,-0.026843689929423743,0.37232433988366975,-0.08694221172951569,0.03623306682508417,0.04542371403142652,-0.03885200210675465,-0.1700033959652166,-0.12288698651615391,0.021582008294033204,0.42067045343035214,-0.022742852582322,-0.016546854640007387,0.49084909778933916,0.10034057209301246,0.04294754516285365,-0.06341667974725623,-0.035612798637805795,-0.05566639579690164,-0.035421270904328644,0.03769517622175625,-0.05419756149465412,0.13062071527562427,-0.014530874971501401,0.3991106799502489,-0.0809628314062992,0.005074719262279124,0.012047628171115057,-0.1140270288876274,0.0005563593751373785,-0.0668246855249134,-0.10342164958295184,-0.10403942339648199,-0.0713457875830753,0.06525398978031474,-0.11088547514256411,-0.05695401837513479,-0.0334177852911562,0.03725237109258516,-0.04781531321220589,-0.13002598174579022,-0.2656053353141267,-0.0012213198592128027,-0.06368123141131468,-0.0682756156533961,0.008621669572175462,-0.048515363047714415,-0.02857359151304702,0.4086298681536779,-0.06084948547608151,-0.15602289164971975,-0.053773879625284016,-0.027909593170395344,0.014815530345081632,-0.06725545913785201,-0.12804823472813187,0.09837567084487453,-0.11150881674898697,0.07878928393588149,-0.06411317847713635,0.043799234598951214,-0.0021718402659592043,0.06382267445760262,0.017992158876023588,-0.04724333245984477,-0.017284285725293686,-0.06447034969069665,-0.04708918678965989,0.04578302065386686,-0.03506216526257848,-0.12164039562358443,0.20409426326498367,0.013337976958203454,-0.036543266101292035,-0.041781977752291484,-0.02640789376387626,-0.07932146046388555,-0.031244370276371166,-0.04395926738037112,-0.10953951281628814,0.023575928836620016,-0.05325273501468536,-0.12027532614824171,0.39826737270690354,-0.025117480360640987,-0.0027457459415371394,-0.08285981504054844,-0.050198156095044175,-0.03454736662678457,-0.02484179960319455,0.33139251223990285,-0.0292074728618626,-0.1322807598393786,-0.013291448803425157,-0.03163741980938385,0.011438540568282769,-0.00883586758298417,-0.04233607391050772,-0.3222372299097381,-0.008842713694629063,-0.09998636694820419,-0.048138171942530054,-0.14405847615558912,-0.017075884031251612,0.053960210342100044,-0.04893636557413197,0.05504466415442394,-0.11551984606167111,-0.09993729747175883,-0.055185198974352145,-0.016916806448717826,-0.014647451366787965,-0.0666701743873445,-0.023679467272045028,-0.11277182037717257,-0.23046571063362736,-0.04518180905045914,-0.039865962436019045,-0.03974469141400954,-0.05066061866448944,-0.03764290679880679,-0.03669793846452683,-0.014033458649547425,-0.073240217245039,0.10400226702937333,-0.0587528783035471,-0.03504877555383154,0.028034732237531224,0.07289035317046848,-0.12121619535581568,0.029033084632815523,-0.037764755477317356,-0.05880719355781701,-0.039943647049769826,-0.045937839716404916,0.017981338543141833,0.018217944516468,-0.01573862954010651,-0.03074795462686111,0.07443011101171661,-0.055017113401580796,-0.03733332495829326,-0.04143000891373485,-0.03737209050149684,-0.032241909263578325,-0.0631104963130416,-0.03631882735711978,-0.035458239996777406,-0.04389630549865072,-0.0401442842434817,0.002538440930157064,-0.04145130268627071,-0.059253589604416276,0.0036535247678200307,-0.024345383479058378,0.05522027403534258,-0.17212832438286962,-0.07831566924155942,-0.3042907624995882,0.01265532430092715,-0.03994629863883981,-0.0484147219453191,-0.03983694299131983,-0.032400135145082526,-0.03994853236806893,-0.11555800158258682,-0.03452100103934945,-0.0317331686490797,-0.10983225743079247,-0.17212832438286962,0.11636967615797525,-0.0978323389386534,-0.05471694629587668,0.034810009972641325,-0.03026962069268829,-0.07842864440245298,-0.03659650812267549,-0.0476788709010401,-0.012224226354046764,-0.03520187238867933,-0.015125271120529629,0.05744806798618199,-0.0657860355927403,-0.10790871558792275,0.021621729997317513,-0.038211006375184556,-0.03502447704188235,-0.13742998905910986,-0.03368489453306254,-0.03396544222258772,-0.029368393101255323,-0.054664759299435255,-0.016406322941889453,-0.02246600971282337,-0.033776418351794346,-0.04238207988272263,0.02010888523096271,-0.03158494570180008,-0.037724976076882716,-0.07815125767718015],\"yaxis\":\"y\",\"type\":\"scatter\"}],                        {\"template\":{\"data\":{\"bar\":[{\"error_x\":{\"color\":\"#2a3f5f\"},\"error_y\":{\"color\":\"#2a3f5f\"},\"marker\":{\"line\":{\"color\":\"#E5ECF6\",\"width\":0.5},\"pattern\":{\"fillmode\":\"overlay\",\"size\":10,\"solidity\":0.2}},\"type\":\"bar\"}],\"barpolar\":[{\"marker\":{\"line\":{\"color\":\"#E5ECF6\",\"width\":0.5},\"pattern\":{\"fillmode\":\"overlay\",\"size\":10,\"solidity\":0.2}},\"type\":\"barpolar\"}],\"carpet\":[{\"aaxis\":{\"endlinecolor\":\"#2a3f5f\",\"gridcolor\":\"white\",\"linecolor\":\"white\",\"minorgridcolor\":\"white\",\"startlinecolor\":\"#2a3f5f\"},\"baxis\":{\"endlinecolor\":\"#2a3f5f\",\"gridcolor\":\"white\",\"linecolor\":\"white\",\"minorgridcolor\":\"white\",\"startlinecolor\":\"#2a3f5f\"},\"type\":\"carpet\"}],\"choropleth\":[{\"colorbar\":{\"outlinewidth\":0,\"ticks\":\"\"},\"type\":\"choropleth\"}],\"contour\":[{\"colorbar\":{\"outlinewidth\":0,\"ticks\":\"\"},\"colorscale\":[[0.0,\"#0d0887\"],[0.1111111111111111,\"#46039f\"],[0.2222222222222222,\"#7201a8\"],[0.3333333333333333,\"#9c179e\"],[0.4444444444444444,\"#bd3786\"],[0.5555555555555556,\"#d8576b\"],[0.6666666666666666,\"#ed7953\"],[0.7777777777777778,\"#fb9f3a\"],[0.8888888888888888,\"#fdca26\"],[1.0,\"#f0f921\"]],\"type\":\"contour\"}],\"contourcarpet\":[{\"colorbar\":{\"outlinewidth\":0,\"ticks\":\"\"},\"type\":\"contourcarpet\"}],\"heatmap\":[{\"colorbar\":{\"outlinewidth\":0,\"ticks\":\"\"},\"colorscale\":[[0.0,\"#0d0887\"],[0.1111111111111111,\"#46039f\"],[0.2222222222222222,\"#7201a8\"],[0.3333333333333333,\"#9c179e\"],[0.4444444444444444,\"#bd3786\"],[0.5555555555555556,\"#d8576b\"],[0.6666666666666666,\"#ed7953\"],[0.7777777777777778,\"#fb9f3a\"],[0.8888888888888888,\"#fdca26\"],[1.0,\"#f0f921\"]],\"type\":\"heatmap\"}],\"heatmapgl\":[{\"colorbar\":{\"outlinewidth\":0,\"ticks\":\"\"},\"colorscale\":[[0.0,\"#0d0887\"],[0.1111111111111111,\"#46039f\"],[0.2222222222222222,\"#7201a8\"],[0.3333333333333333,\"#9c179e\"],[0.4444444444444444,\"#bd3786\"],[0.5555555555555556,\"#d8576b\"],[0.6666666666666666,\"#ed7953\"],[0.7777777777777778,\"#fb9f3a\"],[0.8888888888888888,\"#fdca26\"],[1.0,\"#f0f921\"]],\"type\":\"heatmapgl\"}],\"histogram\":[{\"marker\":{\"pattern\":{\"fillmode\":\"overlay\",\"size\":10,\"solidity\":0.2}},\"type\":\"histogram\"}],\"histogram2d\":[{\"colorbar\":{\"outlinewidth\":0,\"ticks\":\"\"},\"colorscale\":[[0.0,\"#0d0887\"],[0.1111111111111111,\"#46039f\"],[0.2222222222222222,\"#7201a8\"],[0.3333333333333333,\"#9c179e\"],[0.4444444444444444,\"#bd3786\"],[0.5555555555555556,\"#d8576b\"],[0.6666666666666666,\"#ed7953\"],[0.7777777777777778,\"#fb9f3a\"],[0.8888888888888888,\"#fdca26\"],[1.0,\"#f0f921\"]],\"type\":\"histogram2d\"}],\"histogram2dcontour\":[{\"colorbar\":{\"outlinewidth\":0,\"ticks\":\"\"},\"colorscale\":[[0.0,\"#0d0887\"],[0.1111111111111111,\"#46039f\"],[0.2222222222222222,\"#7201a8\"],[0.3333333333333333,\"#9c179e\"],[0.4444444444444444,\"#bd3786\"],[0.5555555555555556,\"#d8576b\"],[0.6666666666666666,\"#ed7953\"],[0.7777777777777778,\"#fb9f3a\"],[0.8888888888888888,\"#fdca26\"],[1.0,\"#f0f921\"]],\"type\":\"histogram2dcontour\"}],\"mesh3d\":[{\"colorbar\":{\"outlinewidth\":0,\"ticks\":\"\"},\"type\":\"mesh3d\"}],\"parcoords\":[{\"line\":{\"colorbar\":{\"outlinewidth\":0,\"ticks\":\"\"}},\"type\":\"parcoords\"}],\"pie\":[{\"automargin\":true,\"type\":\"pie\"}],\"scatter\":[{\"marker\":{\"colorbar\":{\"outlinewidth\":0,\"ticks\":\"\"}},\"type\":\"scatter\"}],\"scatter3d\":[{\"line\":{\"colorbar\":{\"outlinewidth\":0,\"ticks\":\"\"}},\"marker\":{\"colorbar\":{\"outlinewidth\":0,\"ticks\":\"\"}},\"type\":\"scatter3d\"}],\"scattercarpet\":[{\"marker\":{\"colorbar\":{\"outlinewidth\":0,\"ticks\":\"\"}},\"type\":\"scattercarpet\"}],\"scattergeo\":[{\"marker\":{\"colorbar\":{\"outlinewidth\":0,\"ticks\":\"\"}},\"type\":\"scattergeo\"}],\"scattergl\":[{\"marker\":{\"colorbar\":{\"outlinewidth\":0,\"ticks\":\"\"}},\"type\":\"scattergl\"}],\"scattermapbox\":[{\"marker\":{\"colorbar\":{\"outlinewidth\":0,\"ticks\":\"\"}},\"type\":\"scattermapbox\"}],\"scatterpolar\":[{\"marker\":{\"colorbar\":{\"outlinewidth\":0,\"ticks\":\"\"}},\"type\":\"scatterpolar\"}],\"scatterpolargl\":[{\"marker\":{\"colorbar\":{\"outlinewidth\":0,\"ticks\":\"\"}},\"type\":\"scatterpolargl\"}],\"scatterternary\":[{\"marker\":{\"colorbar\":{\"outlinewidth\":0,\"ticks\":\"\"}},\"type\":\"scatterternary\"}],\"surface\":[{\"colorbar\":{\"outlinewidth\":0,\"ticks\":\"\"},\"colorscale\":[[0.0,\"#0d0887\"],[0.1111111111111111,\"#46039f\"],[0.2222222222222222,\"#7201a8\"],[0.3333333333333333,\"#9c179e\"],[0.4444444444444444,\"#bd3786\"],[0.5555555555555556,\"#d8576b\"],[0.6666666666666666,\"#ed7953\"],[0.7777777777777778,\"#fb9f3a\"],[0.8888888888888888,\"#fdca26\"],[1.0,\"#f0f921\"]],\"type\":\"surface\"}],\"table\":[{\"cells\":{\"fill\":{\"color\":\"#EBF0F8\"},\"line\":{\"color\":\"white\"}},\"header\":{\"fill\":{\"color\":\"#C8D4E3\"},\"line\":{\"color\":\"white\"}},\"type\":\"table\"}]},\"layout\":{\"annotationdefaults\":{\"arrowcolor\":\"#2a3f5f\",\"arrowhead\":0,\"arrowwidth\":1},\"autotypenumbers\":\"strict\",\"coloraxis\":{\"colorbar\":{\"outlinewidth\":0,\"ticks\":\"\"}},\"colorscale\":{\"diverging\":[[0,\"#8e0152\"],[0.1,\"#c51b7d\"],[0.2,\"#de77ae\"],[0.3,\"#f1b6da\"],[0.4,\"#fde0ef\"],[0.5,\"#f7f7f7\"],[0.6,\"#e6f5d0\"],[0.7,\"#b8e186\"],[0.8,\"#7fbc41\"],[0.9,\"#4d9221\"],[1,\"#276419\"]],\"sequential\":[[0.0,\"#0d0887\"],[0.1111111111111111,\"#46039f\"],[0.2222222222222222,\"#7201a8\"],[0.3333333333333333,\"#9c179e\"],[0.4444444444444444,\"#bd3786\"],[0.5555555555555556,\"#d8576b\"],[0.6666666666666666,\"#ed7953\"],[0.7777777777777778,\"#fb9f3a\"],[0.8888888888888888,\"#fdca26\"],[1.0,\"#f0f921\"]],\"sequentialminus\":[[0.0,\"#0d0887\"],[0.1111111111111111,\"#46039f\"],[0.2222222222222222,\"#7201a8\"],[0.3333333333333333,\"#9c179e\"],[0.4444444444444444,\"#bd3786\"],[0.5555555555555556,\"#d8576b\"],[0.6666666666666666,\"#ed7953\"],[0.7777777777777778,\"#fb9f3a\"],[0.8888888888888888,\"#fdca26\"],[1.0,\"#f0f921\"]]},\"colorway\":[\"#636efa\",\"#EF553B\",\"#00cc96\",\"#ab63fa\",\"#FFA15A\",\"#19d3f3\",\"#FF6692\",\"#B6E880\",\"#FF97FF\",\"#FECB52\"],\"font\":{\"color\":\"#2a3f5f\"},\"geo\":{\"bgcolor\":\"white\",\"lakecolor\":\"white\",\"landcolor\":\"#E5ECF6\",\"showlakes\":true,\"showland\":true,\"subunitcolor\":\"white\"},\"hoverlabel\":{\"align\":\"left\"},\"hovermode\":\"closest\",\"mapbox\":{\"style\":\"light\"},\"paper_bgcolor\":\"white\",\"plot_bgcolor\":\"#E5ECF6\",\"polar\":{\"angularaxis\":{\"gridcolor\":\"white\",\"linecolor\":\"white\",\"ticks\":\"\"},\"bgcolor\":\"#E5ECF6\",\"radialaxis\":{\"gridcolor\":\"white\",\"linecolor\":\"white\",\"ticks\":\"\"}},\"scene\":{\"xaxis\":{\"backgroundcolor\":\"#E5ECF6\",\"gridcolor\":\"white\",\"gridwidth\":2,\"linecolor\":\"white\",\"showbackground\":true,\"ticks\":\"\",\"zerolinecolor\":\"white\"},\"yaxis\":{\"backgroundcolor\":\"#E5ECF6\",\"gridcolor\":\"white\",\"gridwidth\":2,\"linecolor\":\"white\",\"showbackground\":true,\"ticks\":\"\",\"zerolinecolor\":\"white\"},\"zaxis\":{\"backgroundcolor\":\"#E5ECF6\",\"gridcolor\":\"white\",\"gridwidth\":2,\"linecolor\":\"white\",\"showbackground\":true,\"ticks\":\"\",\"zerolinecolor\":\"white\"}},\"shapedefaults\":{\"line\":{\"color\":\"#2a3f5f\"}},\"ternary\":{\"aaxis\":{\"gridcolor\":\"white\",\"linecolor\":\"white\",\"ticks\":\"\"},\"baxis\":{\"gridcolor\":\"white\",\"linecolor\":\"white\",\"ticks\":\"\"},\"bgcolor\":\"#E5ECF6\",\"caxis\":{\"gridcolor\":\"white\",\"linecolor\":\"white\",\"ticks\":\"\"}},\"title\":{\"x\":0.05},\"xaxis\":{\"automargin\":true,\"gridcolor\":\"white\",\"linecolor\":\"white\",\"ticks\":\"\",\"title\":{\"standoff\":15},\"zerolinecolor\":\"white\",\"zerolinewidth\":2},\"yaxis\":{\"automargin\":true,\"gridcolor\":\"white\",\"linecolor\":\"white\",\"ticks\":\"\",\"title\":{\"standoff\":15},\"zerolinecolor\":\"white\",\"zerolinewidth\":2}}},\"xaxis\":{\"anchor\":\"y\",\"domain\":[0.0,1.0],\"title\":{\"text\":\"x\"}},\"yaxis\":{\"anchor\":\"x\",\"domain\":[0.0,1.0],\"title\":{\"text\":\"y\"}},\"coloraxis\":{\"colorbar\":{\"title\":{\"text\":\"kmeans_labels\"}},\"colorscale\":[[0.0,\"#0d0887\"],[0.1111111111111111,\"#46039f\"],[0.2222222222222222,\"#7201a8\"],[0.3333333333333333,\"#9c179e\"],[0.4444444444444444,\"#bd3786\"],[0.5555555555555556,\"#d8576b\"],[0.6666666666666666,\"#ed7953\"],[0.7777777777777778,\"#fb9f3a\"],[0.8888888888888888,\"#fdca26\"],[1.0,\"#f0f921\"]]},\"legend\":{\"tracegroupgap\":0},\"title\":{\"text\":\"TF-IDF - PCA - k-means\"},\"height\":800,\"width\":1000},                        {\"responsive\": true}                    ).then(function(){\n",
              "                            \n",
              "var gd = document.getElementById('7b591859-921d-41fc-90c9-a405e2205a98');\n",
              "var x = new MutationObserver(function (mutations, observer) {{\n",
              "        var display = window.getComputedStyle(gd).display;\n",
              "        if (!display || display === 'none') {{\n",
              "            console.log([gd, 'removed!']);\n",
              "            Plotly.purge(gd);\n",
              "            observer.disconnect();\n",
              "        }}\n",
              "}});\n",
              "\n",
              "// Listen for the removal of the full notebook cells\n",
              "var notebookContainer = gd.closest('#notebook-container');\n",
              "if (notebookContainer) {{\n",
              "    x.observe(notebookContainer, {childList: true});\n",
              "}}\n",
              "\n",
              "// Listen for the clearing of the current output cell\n",
              "var outputEl = gd.closest('.output');\n",
              "if (outputEl) {{\n",
              "    x.observe(outputEl, {childList: true});\n",
              "}}\n",
              "\n",
              "                        })                };                            </script>        </div>\n",
              "</body>\n",
              "</html>"
            ]
          },
          "metadata": {}
        }
      ]
    }
  ]
}